{
 "cells": [
  {
   "cell_type": "code",
   "execution_count": 3,
   "metadata": {},
   "outputs": [
    {
     "name": "stdout",
     "output_type": "stream",
     "text": [
      "x는 10이 아닙니다\n"
     ]
    }
   ],
   "source": [
    "x = 5\n",
    "\n",
    "if x == 10:\n",
    "    print('x는 10입니다')\n",
    "    \n",
    "else: \n",
    "    print('x는 10이 아닙니다')"
   ]
  },
  {
   "cell_type": "code",
   "execution_count": 11,
   "metadata": {},
   "outputs": [
    {
     "name": "stdout",
     "output_type": "stream",
     "text": [
      "banana\n",
      "not a monkey\n"
     ]
    }
   ],
   "source": [
    "x = monkey\n",
    "x = input()\n",
    "\n",
    "\n",
    "if x == 'monkey':\n",
    "    print('hello monkey')\n",
    "    \n",
    "else:\n",
    "    print('not a monkey')"
   ]
  }
 ],
 "metadata": {
  "kernelspec": {
   "display_name": "Python 3",
   "language": "python",
   "name": "python3"
  }
 },
 "nbformat": 4,
 "nbformat_minor": 4
}
