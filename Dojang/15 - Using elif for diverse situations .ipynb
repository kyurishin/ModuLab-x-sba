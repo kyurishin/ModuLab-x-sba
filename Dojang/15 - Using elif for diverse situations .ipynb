{
 "cells": [
  {
   "cell_type": "code",
   "execution_count": 1,
   "metadata": {},
   "outputs": [
    {
     "name": "stdout",
     "output_type": "stream",
     "text": [
      "20입니다.\n"
     ]
    }
   ],
   "source": [
    "x = 20\n",
    "\n",
    "if x == 10:\n",
    "     print('10입니다.')\n",
    "        \n",
    "elif x == 20:\n",
    "    print('20입니다.')\n"
   ]
  },
  {
   "cell_type": "code",
   "execution_count": 4,
   "metadata": {},
   "outputs": [
    {
     "name": "stdout",
     "output_type": "stream",
     "text": [
      "20도 30도 아닙니다\n"
     ]
    }
   ],
   "source": [
    "x = 50 \n",
    "\n",
    "if x == 20:\n",
    "    print('20입니다')\n",
    "    \n",
    "elif x == 30:\n",
    "    print('30입니다')\n",
    "    \n",
    "else:\n",
    "    print('20도 30도 아닙니다')"
   ]
  },
  {
   "cell_type": "code",
   "execution_count": null,
   "metadata": {},
   "outputs": [],
   "source": [
    "button = int(input('숫자로만 입력해주세요 '))\n",
    "\n",
    "if button == 1:\n",
    "    print('콜라')\n",
    "    \n",
    "elif button == 2:\n",
    "    print('사이다')\n",
    "elif button == 3:\n",
    "    print('캔맥주')\n",
    "elif button == 4:\n",
    "    print('캔커피')\n",
    "    \n",
    "else:\n",
    "    print('제공하지 않는 음료입니다')"
   ]
  },
  {
   "cell_type": "code",
   "execution_count": null,
   "metadata": {},
   "outputs": [],
   "source": [
    "button = int(input('숫자로만 입력해주세요 '))\n",
    "\n",
    "if button == 1:\n",
    "    print('콜라')\n",
    "    \n",
    "else:\n",
    "    print('제공하지 않는 음료입니다')\n",
    "    \n",
    "elif button == 2:\n",
    "    print('사이다')\n",
    "elif button == 3:\n",
    "    print('캔맥주')\n",
    "elif button == 4:\n",
    "    print('캔커피')\n"
   ]
  },
  {
   "cell_type": "code",
   "execution_count": null,
   "metadata": {},
   "outputs": [],
   "source": [
    "# 다음 소스 코드를 완성하여 변수 x가 11과 20 사이면 '11~20', 21과 30 사이면 '21~30', \n",
    "# 아무것도 해당하지 않으면 '아무것도 해당하지 않음'이 출력되게 만드세요."
   ]
  },
  {
   "cell_type": "code",
   "execution_count": 3,
   "metadata": {},
   "outputs": [
    {
     "name": "stdout",
     "output_type": "stream",
     "text": [
      "60\n",
      "아무것도 해당하지 않음\n"
     ]
    }
   ],
   "source": [
    "x = int(input())\n",
    "\n",
    "if 11 <= x <= 20:\n",
    "    print('11~20')\n",
    "    \n",
    "elif 21 <= x <= 30:\n",
    "    print('21~30')\n",
    "    \n",
    "else:\n",
    "    print('아무것도 해당하지 않음')\n",
    "    \n",
    "    "
   ]
  },
  {
   "cell_type": "markdown",
   "metadata": {},
   "source": [
    "표준 입력으로 나이(만 나이)가 입력됩니다(입력 값은 7 이상 입력됨).    \n",
    "교통카드 시스템에서 시내버스 요금은 다음과 같으며 각 나이에 맞게 요금을 차감한 뒤 잔액이 출력되게 만드세요(if, elif 사용).    \n",
    "현재 교통카드에는 9,000원이 들어있습니다.\n",
    "\n",
    "어린이(초등학생, 만 7세 이상 12세 이하): 650원\n",
    "청소년(중∙고등학생, 만 13세 이상 18세 이하): 1,050원\n",
    "어른(일반, 만 19세 이상): 1,250원"
   ]
  },
  {
   "cell_type": "code",
   "execution_count": 16,
   "metadata": {},
   "outputs": [
    {
     "name": "stdout",
     "output_type": "stream",
     "text": [
      "18\n"
     ]
    }
   ],
   "source": [
    "age = int(input())\n",
    "balance = 9000\n",
    "\n",
    "if 7<=age<=12:\n",
    "    balance -= 650\n",
    "    \n",
    "elif 13<=age<=18:\n",
    "    balance -= 1050\n",
    "    \n",
    "elif age >= 19:\n",
    "    balance -= 1250\n",
    "\n",
    "    print(balance)\n",
    "    "
   ]
  },
  {
   "cell_type": "code",
   "execution_count": null,
   "metadata": {},
   "outputs": [],
   "source": []
  }
 ],
 "metadata": {
  "kernelspec": {
   "display_name": "Python 3",
   "language": "python",
   "name": "python3"
  },
  "language_info": {
   "codemirror_mode": {
    "name": "ipython",
    "version": 3
   },
   "file_extension": ".py",
   "mimetype": "text/x-python",
   "name": "python",
   "nbconvert_exporter": "python",
   "pygments_lexer": "ipython3",
   "version": "3.7.8"
  }
 },
 "nbformat": 4,
 "nbformat_minor": 4
}
