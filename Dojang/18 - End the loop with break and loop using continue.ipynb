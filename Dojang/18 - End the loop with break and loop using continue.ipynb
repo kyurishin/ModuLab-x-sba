{
 "cells": [
  {
   "cell_type": "markdown",
   "metadata": {},
   "source": [
    "## while에서 break로 반복문 끝내기"
   ]
  },
  {
   "cell_type": "markdown",
   "metadata": {},
   "source": [
    "<div>\n",
    "<img src=\"https://edu.dojang.io/pluginfile.php/4767/mod_page/content/3/018001.png\" width=\"700\">\n",
    "</div>\n",
    "\n"
   ]
  },
  {
   "cell_type": "code",
   "execution_count": 5,
   "metadata": {},
   "outputs": [
    {
     "name": "stdout",
     "output_type": "stream",
     "text": [
      "0\n",
      "1\n",
      "2\n",
      "3\n",
      "4\n",
      "5\n",
      "6\n",
      "7\n",
      "8\n",
      "9\n"
     ]
    }
   ],
   "source": [
    "i = 0            # 초기식\n",
    "\n",
    "while True:      # 무한루프\n",
    "    print(i)\n",
    "    \n",
    "    i += 1       # i를 1씩 증가시킨다\n",
    "    \n",
    "    if i == 10:  # i가 10이면\n",
    "        \n",
    "        break    # 반복문 끝냄, while 제어문 루프 끊기"
   ]
  },
  {
   "cell_type": "markdown",
   "metadata": {},
   "source": [
    "## for에서 break로 반복문 끝내기"
   ]
  },
  {
   "cell_type": "markdown",
   "metadata": {},
   "source": [
    "\n",
    "<div>\n",
    "<img src=\"https://edu.dojang.io/pluginfile.php/4767/mod_page/content/3/018002.png\" width=\"700\">\n",
    "</div>"
   ]
  },
  {
   "cell_type": "code",
   "execution_count": 4,
   "metadata": {},
   "outputs": [
    {
     "name": "stdout",
     "output_type": "stream",
     "text": [
      "0\n",
      "1\n",
      "2\n",
      "3\n",
      "4\n",
      "5\n",
      "6\n",
      "7\n",
      "8\n",
      "9\n",
      "10\n"
     ]
    }
   ],
   "source": [
    "for i in range(100):   # 0 부터 출발, 100까지\n",
    "    print(i)           # i는 100까지 반복 출력\n",
    "    if i == 10:        # i가 10일때\n",
    "        break          # 반복문 끝냄, for 제어문 루프 끊기"
   ]
  },
  {
   "cell_type": "markdown",
   "metadata": {},
   "source": [
    "## break, continue로 반복문 제어하기\n",
    "\n",
    "break는 제어흐름을 중단하고 빠져 나오지만,     \n",
    "continue는 제어흐름(루프)을 유지한 상태에서 코드의 실행만 건너뛰는 역할을 합니다.     \n",
    "\n",
    "**마치 카드 게임을 할 때 패가 안 좋으면 판을 포기하고 다음 기회를 노리는 것과 비슷합니다.**"
   ]
  },
  {
   "cell_type": "code",
   "execution_count": 8,
   "metadata": {},
   "outputs": [
    {
     "name": "stdout",
     "output_type": "stream",
     "text": [
      "1\n",
      "3\n",
      "5\n",
      "7\n",
      "9\n",
      "11\n",
      "13\n",
      "15\n",
      "17\n",
      "19\n"
     ]
    }
   ],
   "source": [
    "for i in range(20):   # 0부터 20까지 증가\n",
    "    if i%2 == 0:      # i를 2로 나누었을때 나머지가 0이면 (나눗셈 후 나머지를 구하는 % 연산자)\n",
    "        continue      # 아래의 코드를 실행하지 않고 건너뛰고,\n",
    "    print(i)          # 조건이 맞으면 i를 출력하는 코드를 실행한다: 홀수 출력"
   ]
  },
  {
   "cell_type": "markdown",
   "metadata": {},
   "source": [
    "<img src=\"https://edu.dojang.io/pluginfile.php/4768/mod_page/content/6/018003.png\" width=\"700\">"
   ]
  },
  {
   "cell_type": "code",
   "execution_count": 10,
   "metadata": {},
   "outputs": [
    {
     "name": "stdout",
     "output_type": "stream",
     "text": [
      "0\n",
      "2\n",
      "4\n",
      "6\n",
      "8\n",
      "10\n",
      "12\n",
      "14\n",
      "16\n",
      "18\n"
     ]
    }
   ],
   "source": [
    "for i in range(20):   # 0부터 20까지 증가\n",
    "    if i%2 == 1:      # i를 2로 나누었을때 남는 숫자가 1이면,\n",
    "        continue      # 아래의 코드를 실행하지 않고 건너뛰고,\n",
    "    print(i)          # 조건이 맞으면 i를 출력하는 코드를 실행한다: 짝수 출력"
   ]
  },
  {
   "cell_type": "code",
   "execution_count": 21,
   "metadata": {},
   "outputs": [
    {
     "name": "stdout",
     "output_type": "stream",
     "text": [
      "1\n",
      "3\n",
      "5\n",
      "7\n",
      "9\n",
      "11\n",
      "13\n",
      "15\n",
      "17\n",
      "19\n",
      "21\n",
      "23\n",
      "25\n",
      "27\n",
      "29\n",
      "31\n",
      "33\n",
      "35\n",
      "37\n",
      "39\n",
      "41\n",
      "43\n",
      "45\n",
      "47\n",
      "49\n"
     ]
    }
   ],
   "source": [
    "i = 0               # 초기식\n",
    "while i < 50:       # while 조건식: i가 50보다 적을때\n",
    "    i += 1          # 변화식: i는 1만큼 증가하고\n",
    "    if i % 2 == 0:  # if 조건식: i 가 2로 나뉘었을때 남는 수가 0이라면\n",
    "        continue    # continue 제어흐름: i 출력을 건너뛴다.\n",
    "    print(i)"
   ]
  },
  {
   "cell_type": "markdown",
   "metadata": {},
   "source": [
    "<img src=\"https://edu.dojang.io/pluginfile.php/4768/mod_page/content/6/018004.png\" width=\"700\">"
   ]
  },
  {
   "cell_type": "markdown",
   "metadata": {},
   "source": [
    "### for, while의 반복할 코드에서 아무 일도 하지 않지만, 반복문의 형태를 유지하고 싶다면 pass를 사용하면 됩니다."
   ]
  },
  {
   "cell_type": "code",
   "execution_count": 25,
   "metadata": {},
   "outputs": [],
   "source": [
    "# 반복문과 pass\n",
    "\n",
    "for i in range(100): # 100번 반복\n",
    "    pass             # 아무일도 일어나지 않음"
   ]
  },
  {
   "cell_type": "code",
   "execution_count": null,
   "metadata": {},
   "outputs": [],
   "source": [
    "while True:\n",
    "    pass"
   ]
  },
  {
   "cell_type": "markdown",
   "metadata": {},
   "source": [
    "---\n",
    "## 입력한 횟수대로 반복하기"
   ]
  },
  {
   "cell_type": "code",
   "execution_count": 2,
   "metadata": {},
   "outputs": [
    {
     "name": "stdout",
     "output_type": "stream",
     "text": [
      "the number you would like it to repeat: 10\n",
      "0\n",
      "1\n",
      "2\n",
      "3\n",
      "4\n",
      "5\n",
      "6\n",
      "7\n",
      "8\n",
      "9\n"
     ]
    }
   ],
   "source": [
    "count = int(input('the number you would like it to repeat: '))\n",
    "\n",
    "i = 0\n",
    "\n",
    "while True:            # 무한루프\n",
    "    print(i)         \n",
    "    i += 1             # while 반복문을 쓸때 초기식과 변화식을 반드시 잊으면 안됌!\n",
    "    \n",
    "    if i == count:     # 변수가 입력숫자와 같을때 제어\n",
    "        break"
   ]
  },
  {
   "cell_type": "markdown",
   "metadata": {},
   "source": [
    "다음 코드로 1부터 10까지 출력하면서 3의 배수는 제외하려고 할 때 밑줄 부분에 들어가야 할 코드를 고르세요."
   ]
  },
  {
   "cell_type": "code",
   "execution_count": 3,
   "metadata": {},
   "outputs": [],
   "source": [
    "# for i in range(1, 11):\n",
    "#    ____________________            \n",
    "#        ____________________            \n",
    "#   print(i)"
   ]
  },
  {
   "cell_type": "code",
   "execution_count": 4,
   "metadata": {},
   "outputs": [
    {
     "name": "stdout",
     "output_type": "stream",
     "text": [
      "1\n",
      "2\n",
      "4\n",
      "5\n",
      "7\n",
      "8\n",
      "10\n"
     ]
    }
   ],
   "source": [
    "for i in range(1, 11):\n",
    "    if i % 3 == 0:\n",
    "        continue\n",
    "    print(i)\n",
    "    "
   ]
  },
  {
   "cell_type": "markdown",
   "metadata": {},
   "source": [
    "다음 코드로 30부터 10까지 출력할 때 밑줄 부분에 들어가야 할 코드를 고르세요."
   ]
  },
  {
   "cell_type": "code",
   "execution_count": 7,
   "metadata": {},
   "outputs": [
    {
     "name": "stdout",
     "output_type": "stream",
     "text": [
      "30\n",
      "29\n",
      "28\n",
      "27\n",
      "26\n",
      "25\n",
      "24\n",
      "23\n",
      "22\n",
      "21\n",
      "20\n",
      "19\n",
      "18\n",
      "17\n",
      "16\n",
      "15\n",
      "14\n",
      "13\n",
      "12\n",
      "11\n",
      "10\n"
     ]
    }
   ],
   "source": [
    "i = 30\n",
    " \n",
    "while True:\n",
    "    print(i)\n",
    "\n",
    "    if i == 10:\n",
    "        break              \n",
    "                 \n",
    "    i -= 1"
   ]
  },
  {
   "cell_type": "markdown",
   "metadata": {},
   "source": [
    "18.5 연습문제: 3으로 끝나는 숫자만 출력하기"
   ]
  },
  {
   "cell_type": "markdown",
   "metadata": {},
   "source": [
    "다음 소스 코드를 완성하여 0과 73 사이의 숫자 중 3으로 끝나는 숫자만 출력되게 만드세요.\n",
    "\n",
    "practice_number_ending_3.py      \n",
    "i = 0       \n",
    "while True:    \n",
    "\n",
    "    ① ________________  \n",
    "      ________________  \n",
    "      ________________  \n",
    "                   \n",
    "    ② ________________  \n",
    "      ________________  \n",
    "                   \n",
    "    print(i, end=' ')\n",
    "    i += 1"
   ]
  },
  {
   "cell_type": "code",
   "execution_count": 8,
   "metadata": {},
   "outputs": [
    {
     "name": "stdout",
     "output_type": "stream",
     "text": [
      "3 13 23 33 43 53 63 73 "
     ]
    }
   ],
   "source": [
    "i = 0\n",
    "while True:\n",
    "    if i % 10 != 3:\n",
    "        i += 1\n",
    "        continue\n",
    "    \n",
    "    if i > 73:\n",
    "        break\n",
    "    \n",
    "    print(i, end=' ')\n",
    "    i += 1"
   ]
  },
  {
   "cell_type": "markdown",
   "metadata": {},
   "source": [
    "표준 입력으로 정수 두 개가 입력됩니다(첫 번째 입력 값의 범위는 1~200,    \n",
    "두 번째 입력 값의 범위는 10~200이며 첫 번째 입력 값은 두 번째 입력 값보다 항상 작습니다).    \n",
    "다음 소스 코드를 완성하여 첫 번째 정수와 두 번째 정수 사이의 숫자 중 3으로 끝나지 않는 숫자가 출력되게 만드세요.     \n",
    "정답에 코드를 작성할 때는 while True:에 맞춰서 들여쓰기를 해주세요.\n",
    "\n",
    "정리:\n",
    "1. 입력 두 가지\n",
    "2. start를 변수로 지정\n",
    "3. 무한루프 시동\n",
    "4. 스타트와 스톱 범위 지정(start, stop), start < stop"
   ]
  },
  {
   "cell_type": "code",
   "execution_count": 10,
   "metadata": {},
   "outputs": [
    {
     "name": "stdout",
     "output_type": "stream",
     "text": [
      "21 33\n",
      "21 22 24 25 26 27 28 29 30 31 32 "
     ]
    }
   ],
   "source": [
    "start, stop = map(int, input().split())\n",
    "\n",
    "i = start\n",
    " \n",
    "while True:\n",
    "    if i % 10 == 3:\n",
    "        continue\n",
    "            \n",
    "    if i == stop +1:\n",
    "        break\n",
    "    \n",
    "    print(i, end=' ')\n",
    "    i += 1"
   ]
  },
  {
   "cell_type": "code",
   "execution_count": null,
   "metadata": {},
   "outputs": [],
   "source": []
  },
  {
   "cell_type": "code",
   "execution_count": null,
   "metadata": {},
   "outputs": [],
   "source": []
  },
  {
   "cell_type": "code",
   "execution_count": null,
   "metadata": {},
   "outputs": [],
   "source": []
  }
 ],
 "metadata": {
  "kernelspec": {
   "display_name": "Python 3",
   "language": "python",
   "name": "python3"
  },
  "language_info": {
   "codemirror_mode": {
    "name": "ipython",
    "version": 3
   },
   "file_extension": ".py",
   "mimetype": "text/x-python",
   "name": "python",
   "nbconvert_exporter": "python",
   "pygments_lexer": "ipython3",
   "version": "3.8.5"
  }
 },
 "nbformat": 4,
 "nbformat_minor": 4
}
