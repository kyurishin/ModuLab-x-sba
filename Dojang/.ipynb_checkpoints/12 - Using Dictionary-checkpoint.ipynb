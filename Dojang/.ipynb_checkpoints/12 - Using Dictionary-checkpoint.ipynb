{
 "cells": [
  {
   "cell_type": "markdown",
   "metadata": {},
   "source": [
    "## 딕셔너리: 연관된 값을 묶어서 저장하는 용도"
   ]
  },
  {
   "cell_type": "code",
   "execution_count": 2,
   "metadata": {},
   "outputs": [],
   "source": [
    "lux = [490, 334, 550, 18.72]\n",
    "\n",
    "# data type called dictionary\n",
    "\n",
    "lux = {'health': 490, 'mana': 334, 'melee': 550, 'armor': 18.72}"
   ]
  },
  {
   "cell_type": "markdown",
   "metadata": {},
   "source": [
    "## 딕셔너리 만들기\n",
    "\n",
    "키에는 값을 하나만 지정할 수 있으며 이런 특성을 따서 __키-값 쌍(key-value pair)__이라 부른다."
   ]
  },
  {
   "cell_type": "code",
   "execution_count": 6,
   "metadata": {},
   "outputs": [
    {
     "data": {
      "text/plain": [
       "{'strength': 500, 'laziness': 1000, 'flexibility': 300, 'agility': 100}"
      ]
     },
     "execution_count": 6,
     "metadata": {},
     "output_type": "execute_result"
    }
   ],
   "source": [
    "kyuri = {'strength': 500, 'laziness': 1000, 'laziness': 1000, 'flexibility': 300, 'agility' : 100}\n",
    "\n",
    "kyuri    # 중복된 key가 있으면 하나로 퉁치게 됨."
   ]
  },
  {
   "cell_type": "code",
   "execution_count": 7,
   "metadata": {},
   "outputs": [
    {
     "data": {
      "text/plain": [
       "{100: 'hundred', False: 0, 3.5: [3.5, 3.5]}"
      ]
     },
     "execution_count": 7,
     "metadata": {},
     "output_type": "execute_result"
    }
   ],
   "source": [
    "# 딕셔너리의 키는 문자열뿐만 아니라 정수, 실수, 불도 사용할 수 있으며 자료형을 섞어서 사용해도 무방하다. \n",
    "# 고로 값에는 모든 data type 사용가능... 하지만,\n",
    "\n",
    "x = {100: 'hundred', False: 0, 3.5: [3.5, 3.5]}\n",
    "x"
   ]
  },
  {
   "cell_type": "code",
   "execution_count": 9,
   "metadata": {},
   "outputs": [
    {
     "ename": "TypeError",
     "evalue": "unhashable type: 'list'",
     "output_type": "error",
     "traceback": [
      "\u001b[0;31m---------------------------------------------------------------------------\u001b[0m",
      "\u001b[0;31mTypeError\u001b[0m                                 Traceback (most recent call last)",
      "\u001b[0;32m<ipython-input-9-b26652de3568>\u001b[0m in \u001b[0;36m<module>\u001b[0;34m\u001b[0m\n\u001b[1;32m      1\u001b[0m \u001b[0;31m# 단, 키에는 리스트와 딕셔너리를 사용할 수 없다.\u001b[0m\u001b[0;34m\u001b[0m\u001b[0;34m\u001b[0m\u001b[0;34m\u001b[0m\u001b[0m\n\u001b[1;32m      2\u001b[0m \u001b[0;34m\u001b[0m\u001b[0m\n\u001b[0;32m----> 3\u001b[0;31m \u001b[0mx\u001b[0m \u001b[0;34m=\u001b[0m \u001b[0;34m{\u001b[0m\u001b[0;34m[\u001b[0m\u001b[0;36m1\u001b[0m\u001b[0;34m,\u001b[0m\u001b[0;36m2\u001b[0m\u001b[0;34m,\u001b[0m\u001b[0;36m3\u001b[0m\u001b[0;34m]\u001b[0m\u001b[0;34m:\u001b[0m \u001b[0;34m'dictionary_example'\u001b[0m\u001b[0;34m}\u001b[0m\u001b[0;34m\u001b[0m\u001b[0;34m\u001b[0m\u001b[0m\n\u001b[0m\u001b[1;32m      4\u001b[0m \u001b[0mx\u001b[0m\u001b[0;34m\u001b[0m\u001b[0;34m\u001b[0m\u001b[0m\n",
      "\u001b[0;31mTypeError\u001b[0m: unhashable type: 'list'"
     ]
    }
   ],
   "source": [
    "# 단, 키에는 리스트와 딕셔너리를 사용할 수 없다.\n",
    "\n",
    "x = {[1,2,3]: 'dictionary_example'}\n",
    "x"
   ]
  },
  {
   "cell_type": "code",
   "execution_count": 12,
   "metadata": {},
   "outputs": [
    {
     "ename": "TypeError",
     "evalue": "unhashable type: 'dict'",
     "output_type": "error",
     "traceback": [
      "\u001b[0;31m---------------------------------------------------------------------------\u001b[0m",
      "\u001b[0;31mTypeError\u001b[0m                                 Traceback (most recent call last)",
      "\u001b[0;32m<ipython-input-12-994506230d93>\u001b[0m in \u001b[0;36m<module>\u001b[0;34m\u001b[0m\n\u001b[0;32m----> 1\u001b[0;31m \u001b[0mx\u001b[0m \u001b[0;34m=\u001b[0m \u001b[0;34m{\u001b[0m\u001b[0;34m{\u001b[0m\u001b[0;34m'mana'\u001b[0m \u001b[0;34m:\u001b[0m \u001b[0;36m300\u001b[0m\u001b[0;34m}\u001b[0m\u001b[0;34m}\u001b[0m\u001b[0;34m\u001b[0m\u001b[0;34m\u001b[0m\u001b[0m\n\u001b[0m",
      "\u001b[0;31mTypeError\u001b[0m: unhashable type: 'dict'"
     ]
    }
   ],
   "source": [
    "x = {{'mana' : 300}}"
   ]
  },
  {
   "cell_type": "code",
   "execution_count": 14,
   "metadata": {},
   "outputs": [
    {
     "data": {
      "text/plain": [
       "{}"
      ]
     },
     "execution_count": 14,
     "metadata": {},
     "output_type": "execute_result"
    }
   ],
   "source": [
    "x = {}      # 빈 딕셔너리 만들기 1\n",
    "x"
   ]
  },
  {
   "cell_type": "code",
   "execution_count": 17,
   "metadata": {},
   "outputs": [
    {
     "data": {
      "text/plain": [
       "{}"
      ]
     },
     "execution_count": 17,
     "metadata": {},
     "output_type": "execute_result"
    }
   ],
   "source": [
    "x = dict()  # 빈 딕셔너리 만들기 2 \n",
    "x"
   ]
  },
  {
   "cell_type": "markdown",
   "metadata": {},
   "source": [
    "### 슬슬 dict( )로 딕셔너리 만드는 법을 알아보자\n",
    "\n",
    "- dictionary = dict (key1 = key1, key2 = key2)              \n",
    "- dictionary = dict (zip([key1, key2], [value1, value2]))\n",
    "- dictionary = dict ([(key1, value1), (key2, value2)])\n",
    "- dictionary = dict ({key1: value1, key2: value2})\n",
    "\n",
    "#### *dict는 다음과 같이 __키와 값을 연결하거나, 리스트, 튜플, 딕셔너리__로 딕셔너리를 만들 때 사용한다.*\n",
    "\n",
    "dict에서 키=값 형식으로 딕셔너리를 만들 수 있습니다.     \n",
    "이때는 __키에 ' '(작은따옴표)나 \" \"(큰따옴표)를 사용하지 않아야__ 합니다.     \n",
    "키는 딕셔너리를 만들고 나면 __문자열__로 바뀝니다."
   ]
  },
  {
   "cell_type": "code",
   "execution_count": 23,
   "metadata": {},
   "outputs": [
    {
     "data": {
      "text/plain": [
       "{'strength': 500, 'laziness': 1000, 'flexibility': 300, 'agility': 100}"
      ]
     },
     "execution_count": 23,
     "metadata": {},
     "output_type": "execute_result"
    }
   ],
   "source": [
    "# 키 = 값 형식으로 딕셔너리를 만듦\n",
    "# dict(리스트)\n",
    "\n",
    "kyuri = dict(strength = 500, laziness = 1000, flexibility = 300, agility = 100)\n",
    "\n",
    "kyuri"
   ]
  },
  {
   "cell_type": "code",
   "execution_count": 30,
   "metadata": {},
   "outputs": [
    {
     "data": {
      "text/plain": [
       "{'strength': 500, 'laziness': 1000, 'flexibility': 300, 'agility': 100}"
      ]
     },
     "execution_count": 30,
     "metadata": {},
     "output_type": "execute_result"
    }
   ],
   "source": [
    "# zip 함수로 키 리스트와 값 리스트를 각각 묶음\n",
    "\n",
    "kyuri = dict(zip(['strength','laziness','flexibility','agility'], [500, 1000, 300, 100]))\n",
    "\n",
    "kyuri"
   ]
  },
  {
   "cell_type": "code",
   "execution_count": 34,
   "metadata": {},
   "outputs": [
    {
     "data": {
      "text/plain": [
       "{'strength': 500, 'laziness': 1000, 'flexibility': 300, 'agility': 100}"
      ]
     },
     "execution_count": 34,
     "metadata": {},
     "output_type": "execute_result"
    }
   ],
   "source": [
    "# (키, 값) 형식의 튜플로 딕셔너리를 만듦\n",
    "\n",
    "kyuri = dict([('strength', 500),('laziness', 1000), ('flexibility', 300), ('agility', 100)])\n",
    "\n",
    "kyuri"
   ]
  },
  {
   "cell_type": "code",
   "execution_count": 35,
   "metadata": {},
   "outputs": [
    {
     "data": {
      "text/plain": [
       "{'strength': 500, 'laziness': 1000, 'flexibility': 300, 'agility': 100}"
      ]
     },
     "execution_count": 35,
     "metadata": {},
     "output_type": "execute_result"
    }
   ],
   "source": [
    "# dict 안에서 중괄호로 딕셔너리를 만듦\n",
    "\n",
    "kyuri = dict ({'strength': 500, 'laziness': 1000, 'laziness': 1000, 'flexibility': 300, 'agility' : 100})\n",
    "\n",
    "kyuri"
   ]
  },
  {
   "cell_type": "markdown",
   "metadata": {},
   "source": [
    "### 딕셔너리의 키에 접근하고 값 할당하기\n",
    "\n",
    "- 딕셔너리[key]"
   ]
  },
  {
   "cell_type": "code",
   "execution_count": 37,
   "metadata": {},
   "outputs": [
    {
     "data": {
      "text/plain": [
       "1000"
      ]
     },
     "execution_count": 37,
     "metadata": {},
     "output_type": "execute_result"
    }
   ],
   "source": [
    "kyuri = {'strength': 500, 'laziness': 1000, 'flexibility': 300, 'agility' : 100}\n",
    "\n",
    "# 여기서 꼭 집어 하나의 key의 값을 알고싶다.\n",
    "\n",
    "kyuri['laziness']"
   ]
  },
  {
   "cell_type": "code",
   "execution_count": 54,
   "metadata": {},
   "outputs": [
    {
     "data": {
      "text/plain": [
       "300"
      ]
     },
     "execution_count": 54,
     "metadata": {},
     "output_type": "execute_result"
    }
   ],
   "source": [
    "kyuri['laziness'] kyuri['flexibility']"
   ]
  },
  {
   "cell_type": "code",
   "execution_count": 57,
   "metadata": {},
   "outputs": [
    {
     "data": {
      "text/plain": [
       "334"
      ]
     },
     "execution_count": 57,
     "metadata": {},
     "output_type": "execute_result"
    }
   ],
   "source": [
    "lux = {'health': 490, 'mana': 334, 'melee': 550, 'armor': 18.72}\n",
    "\n",
    "lux['mana']"
   ]
  },
  {
   "cell_type": "code",
   "execution_count": 58,
   "metadata": {},
   "outputs": [
    {
     "data": {
      "text/plain": [
       "{'health': 490, 'mana': 334, 'melee': 550, 'armor': 18.72}"
      ]
     },
     "execution_count": 58,
     "metadata": {},
     "output_type": "execute_result"
    }
   ],
   "source": [
    "lux"
   ]
  },
  {
   "cell_type": "code",
   "execution_count": 61,
   "metadata": {},
   "outputs": [
    {
     "data": {
      "text/plain": [
       "{'health': 490, 'mana': 334, 'melee': 550, 'armor': 18.72, 'mana_regen': 200}"
      ]
     },
     "execution_count": 61,
     "metadata": {},
     "output_type": "execute_result"
    }
   ],
   "source": [
    "# 딕셔너리는 없는 키에 값을 할당하면 해당 키가 추가되고 값이 할당된다.\n",
    "\n",
    "lux['mana_regen'] = 200\n",
    "\n",
    "lux"
   ]
  },
  {
   "cell_type": "code",
   "execution_count": 65,
   "metadata": {},
   "outputs": [
    {
     "data": {
      "text/plain": [
       "True"
      ]
     },
     "execution_count": 65,
     "metadata": {},
     "output_type": "execute_result"
    }
   ],
   "source": [
    "# in 연산자로 Boole 불러오기\n",
    "\n",
    "'health' in lux"
   ]
  },
  {
   "cell_type": "code",
   "execution_count": 67,
   "metadata": {},
   "outputs": [
    {
     "data": {
      "text/plain": [
       "False"
      ]
     },
     "execution_count": 67,
     "metadata": {},
     "output_type": "execute_result"
    }
   ],
   "source": [
    "'melee' not in lux"
   ]
  },
  {
   "cell_type": "markdown",
   "metadata": {},
   "source": [
    "### 딕셔너리의 키 개수 구하기\n",
    "- len(dictionary)"
   ]
  },
  {
   "cell_type": "code",
   "execution_count": 68,
   "metadata": {},
   "outputs": [
    {
     "data": {
      "text/plain": [
       "5"
      ]
     },
     "execution_count": 68,
     "metadata": {},
     "output_type": "execute_result"
    }
   ],
   "source": [
    "len(lux)"
   ]
  },
  {
   "cell_type": "code",
   "execution_count": 84,
   "metadata": {},
   "outputs": [
    {
     "name": "stdout",
     "output_type": "stream",
     "text": [
      "Hello\n"
     ]
    }
   ],
   "source": [
    "x = {10: 'Hello', 'world': 30}\n",
    "\n",
    "print(x[10])"
   ]
  },
  {
   "cell_type": "code",
   "execution_count": 86,
   "metadata": {},
   "outputs": [
    {
     "name": "stdout",
     "output_type": "stream",
     "text": [
      "1500 2000\n"
     ]
    }
   ],
   "source": [
    "fruits = {'apple': 1500, 'pear': 3000, 'grape': 1400}\n",
    "fruits['orange'] = 2000\n",
    "\n",
    "print(fruits['apple'], fruits['orange'])"
   ]
  },
  {
   "cell_type": "code",
   "execution_count": 91,
   "metadata": {},
   "outputs": [
    {
     "name": "stdout",
     "output_type": "stream",
     "text": [
      "575.6\n",
      "340\n"
     ]
    }
   ],
   "source": [
    "# 다음 소스 코드를 완성하여 게임 캐릭터의 체력(health)과 이동 속도(movement speed)가 출력되게 만드세요.\n",
    "\n",
    "camille = {\n",
    "    'health': 575.6,\n",
    "    'health_regen': 1.7,\n",
    "    'mana': 338.8,\n",
    "    'mana_regen': 1.63,\n",
    "    'melee': 125,\n",
    "    'attack_damage': 60,\n",
    "    'attack_speed': 0.625,\n",
    "    'armor': 26,\n",
    "    'magic_resistance': 32.1,\n",
    "    'movement_speed': 340\n",
    "}\n",
    "\n",
    "print(camille['health'])\n",
    "print(camille['movement_speed'])"
   ]
  },
  {
   "cell_type": "markdown",
   "metadata": {},
   "source": [
    "표준 입력으로 문자열 여러 개와 숫자(실수) 여러 개가 두 줄로 입력됩니다.     \n",
    "입력된 첫 번째 줄은 키, 두 번째 줄은 값으로 하여 딕셔너리를 생성한 뒤 딕셔너리를 출력하는 프로그램을 만드세요.    \n",
    "input().split()의 결과를 변수 한 개에 저장하면 리스트로 저장됩니다."
   ]
  },
  {
   "cell_type": "code",
   "execution_count": null,
   "metadata": {},
   "outputs": [],
   "source": [
    "a1,a2,a3,a4 = input().split()\n",
    "b1,b2,b3,b4 = map(float, input().split())\n",
    "x = dict(zip([a1,a2,a3,a4],[b1,b2,b3,b4]))\n",
    "print(x)\n"
   ]
  },
  {
   "cell_type": "code",
   "execution_count": 5,
   "metadata": {},
   "outputs": [
    {
     "name": "stdout",
     "output_type": "stream",
     "text": [
      "health health_regen mana mana_regen\n",
      "575.6 1.7 338.8 1.63\n",
      "{'health': 575.6, 'health_regen': 1.7, 'mana': 338.8, 'mana_regen': 1.63}\n"
     ]
    }
   ],
   "source": [
    "a = input().split()\n",
    "b = map(float, input().split())\n",
    "lux2 = dict(zip(a,b)) \n",
    "print(lux2)"
   ]
  },
  {
   "cell_type": "markdown",
   "metadata": {},
   "source": [
    "\n",
    "12.1.4 설명에도 있지만, zip에는 반복가능한 객체면 됩니다.\n",
    "리스트, map 객체, 튜플 등을 쓸 수 있습니다. 굳이 [ ]를 붙이지 않아도 됩니다.\n",
    "\n",
    "dict(zip(a, b))\n",
    "이렇게 테스트해보세요."
   ]
  }
 ],
 "metadata": {
  "kernelspec": {
   "display_name": "Python 3",
   "language": "python",
   "name": "python3"
  }
 },
 "nbformat": 4,
 "nbformat_minor": 4
}
