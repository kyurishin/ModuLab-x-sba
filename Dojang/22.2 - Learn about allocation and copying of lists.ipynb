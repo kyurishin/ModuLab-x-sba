{
 "cells": [
  {
   "cell_type": "markdown",
   "metadata": {},
   "source": [
    "# 리스트와 튜플 응용하기\n",
    "### 리스트의 할당과 복사 알아보기\n",
    "\n",
    "1. 먼저 리스트를 만든 뒤 다른 변수에 할당하기\n",
    "\n",
    "> a = [0, 0, 0, 0, 0]       \n",
    "\n",
    "> b = a\n",
    "   \n",
    "   b = a와 같이 리스트를 다른 변수에 할당하면 리스트는 두 개가 될 것 같지만 실제로는 **리스트가 한 개**이다.\n",
    "   \n",
    "   <img src =\"https://edu.dojang.io/pluginfile.php/4796/mod_page/content/2/022012.png\" width = 500>\n",
    "\n",
    "--- \n",
    "\n",
    "a와 b를 is 연산자로 비교해보면 __True__가 나옵니다. 즉, **변수 이름만 다를 뿐 리스트 a와 b는 같은 객체입니다.**"
   ]
  },
  {
   "cell_type": "code",
   "execution_count": 3,
   "metadata": {},
   "outputs": [
    {
     "data": {
      "text/plain": [
       "True"
      ]
     },
     "execution_count": 3,
     "metadata": {},
     "output_type": "execute_result"
    }
   ],
   "source": [
    "a = [0,0,0,0,0]\n",
    "b = a\n",
    "\n",
    "b is a"
   ]
  },
  {
   "cell_type": "markdown",
   "metadata": {},
   "source": [
    "a와 b는 같으므로 b[2] = 99와 같이 리스트 b의 요소를 변경하면 **리스트 a와 b에 모두 반영**됩니다."
   ]
  },
  {
   "cell_type": "code",
   "execution_count": 5,
   "metadata": {},
   "outputs": [
    {
     "data": {
      "text/plain": [
       "[0, 0, 99, 0, 0]"
      ]
     },
     "execution_count": 5,
     "metadata": {},
     "output_type": "execute_result"
    }
   ],
   "source": [
    "a = [0,0,0,0,0]\n",
    "b = a\n",
    "\n",
    "b[2] = 99\n",
    "a"
   ]
  },
  {
   "cell_type": "code",
   "execution_count": 7,
   "metadata": {},
   "outputs": [
    {
     "data": {
      "text/plain": [
       "[0, 0, 99, 0, 0]"
      ]
     },
     "execution_count": 7,
     "metadata": {},
     "output_type": "execute_result"
    }
   ],
   "source": [
    "b"
   ]
  },
  {
   "cell_type": "markdown",
   "metadata": {},
   "source": [
    "#### 리스트를 할당한 뒤 b의 요소를 변경했을 때\n",
    "\n",
    "<img src = \"https://edu.dojang.io/pluginfile.php/4796/mod_page/content/2/022013.png\" width = 500>\n",
    "\n",
    "**리스트 a와 b를 완전히 두 개**로 만들려면 **copy 메서드**로 모든 요소를 복사해야 합니다.\n",
    "\n",
    "> a = [0, 0, 0, 0, 0]\n",
    "\n",
    "> b = a.copy()             \n",
    "\n",
    "b = a.copy()와 같이 copy를 사용한 뒤 b에 할당해주면 리스트 a의 요소가 모두 b에 복사됩니다.\n",
    "\n",
    "<img src = \"https://edu.dojang.io/pluginfile.php/4796/mod_page/content/2/022014.png\" width = 500>"
   ]
  },
  {
   "cell_type": "code",
   "execution_count": 12,
   "metadata": {},
   "outputs": [
    {
     "data": {
      "text/plain": [
       "False"
      ]
     },
     "execution_count": 12,
     "metadata": {},
     "output_type": "execute_result"
    }
   ],
   "source": [
    "a is b"
   ]
  },
  {
   "cell_type": "code",
   "execution_count": 14,
   "metadata": {},
   "outputs": [
    {
     "data": {
      "text/plain": [
       "True"
      ]
     },
     "execution_count": 14,
     "metadata": {},
     "output_type": "execute_result"
    }
   ],
   "source": [
    "a == b"
   ]
  },
  {
   "cell_type": "markdown",
   "metadata": {},
   "source": [
    "이제 **리스트 a와 b는 별개**이므로 한쪽의 값을 변경해도 다른 리스트에 영향을 미치지 않습니다.     \n",
    "다음과 같이 **리스트 b의 요소를 변경하면 리스트 a는 그대로이고 리스트 b만 바뀝니다.**\n",
    "\n",
    "<img src=\"https://edu.dojang.io/pluginfile.php/4796/mod_page/content/2/022015.png\" width = \"500\">"
   ]
  },
  {
   "cell_type": "code",
   "execution_count": 22,
   "metadata": {},
   "outputs": [
    {
     "data": {
      "text/plain": [
       "[0, 0, 0, 0, 0]"
      ]
     },
     "execution_count": 22,
     "metadata": {},
     "output_type": "execute_result"
    }
   ],
   "source": [
    "b[2] = 99\n",
    "a"
   ]
  },
  {
   "cell_type": "code",
   "execution_count": 23,
   "metadata": {},
   "outputs": [
    {
     "data": {
      "text/plain": [
       "[0, 0, 99, 0, 0]"
      ]
     },
     "execution_count": 23,
     "metadata": {},
     "output_type": "execute_result"
    }
   ],
   "source": [
    "b"
   ]
  },
  {
   "cell_type": "markdown",
   "metadata": {},
   "source": [
    "## 반복문으로 리스트의 요소를 모두 출력하기\n",
    "\n",
    "> for 변수 in 리스트:    \n",
    "    반복할 코드\n",
    "    \n",
    "\"i\" is a **temporary variable** used to store the integer value of the current position in the range of the 'for loop' that only has scope within its 'for loop'. You could use any other variable name in place of \"i\" such as \"count\" or \"x\" or \"number\".\n",
    "\n",
    "\"i\"는 for 루프 내에 범위만 있는 for 루프 범위에서 현재 위치의 정수 값을 저장하는 데 사용되는 **임시 변수**입니다.    \n",
    "\"count\", \"x\"또는 \"number\"와 같이 \"i\"대신 다른 변수 이름을 사용할 수 있습니다."
   ]
  },
  {
   "cell_type": "code",
   "execution_count": 29,
   "metadata": {},
   "outputs": [
    {
     "name": "stdout",
     "output_type": "stream",
     "text": [
      "1\n",
      "2\n",
      "3\n",
      "4\n"
     ]
    }
   ],
   "source": [
    "a = [1,2,3,4]\n",
    "for i in a:\n",
    "    print(i)"
   ]
  },
  {
   "cell_type": "code",
   "execution_count": 30,
   "metadata": {},
   "outputs": [
    {
     "name": "stdout",
     "output_type": "stream",
     "text": [
      "1\n",
      "2\n",
      "3\n",
      "4\n"
     ]
    }
   ],
   "source": [
    "# 이렇게 처음부터 지정해줘도 상관 x\n",
    "for i in [1,2,3,4]:\n",
    "    print(i)"
   ]
  },
  {
   "cell_type": "markdown",
   "metadata": {},
   "source": [
    ">for i in a:는 리스트 a에서 요소를 꺼내서 i에 저장하고, 꺼낼 때마다 코드를 반복합니다.    \n",
    "따라서 print로 i를 출력하면 모든 요소를 순서대로 출력할 수 있습니다.\n",
    "\n",
    "물론 in 다음에 리스트를 직접 지정해도 상관 없습니다."
   ]
  },
  {
   "cell_type": "code",
   "execution_count": 32,
   "metadata": {},
   "outputs": [
    {
     "name": "stdout",
     "output_type": "stream",
     "text": [
      "40\n",
      "30\n",
      "40\n",
      "20\n"
     ]
    }
   ],
   "source": [
    "for i in [40, 30, 40, 20]:\n",
    "    print(i)"
   ]
  },
  {
   "cell_type": "markdown",
   "metadata": {},
   "source": [
    "### 인덱스와 요소를 함께 출력하기: printing index and elements\n",
    "\n",
    "그럼 for 반복문으로 요소를 출력할 때 인덱스도 함께 출력하려면 어떻게 해야 할까요? 이때는 **enumerate**를 사용합니다.     \n",
    "- for 인덱스, 요소 in enumerate(리스트):"
   ]
  },
  {
   "cell_type": "code",
   "execution_count": 35,
   "metadata": {
    "scrolled": true
   },
   "outputs": [
    {
     "name": "stdout",
     "output_type": "stream",
     "text": [
      "0 |  38\n",
      "1 |  21\n",
      "2 |  53\n",
      "3 |  62\n",
      "4 |  19\n"
     ]
    }
   ],
   "source": [
    "a = [38, 21, 53, 62, 19]\n",
    "for index, value in enumerate(a):\n",
    "    print(index,'| ', value)"
   ]
  },
  {
   "cell_type": "markdown",
   "metadata": {},
   "source": [
    "for index, value in enumerate(a):와 같이 enumerate에 리스트를 넣으면,    \n",
    "for 반복문에서 인덱스와 요소를 동시에 꺼내 올 수 있습니다. \n",
    "\n",
    "**enumerate** | **ɪˈnjuːməreɪt** |     \n",
    "*verb [with object]*     \n",
    "mention (a number of things) one by one: there is not space to enumerate all his works.      \n",
    "• *formal establish the number of: 6,079 residents were enumerated in 241 establishments.*\n",
    "\n",
    "앞의 코드는 인덱스를 0부터 출력하는데 1부터 출력하고 싶을 수도 있습니다. 다음과 같이 그냥 index + 1을 출력하면 되겠죠?"
   ]
  },
  {
   "cell_type": "code",
   "execution_count": 37,
   "metadata": {},
   "outputs": [
    {
     "name": "stdout",
     "output_type": "stream",
     "text": [
      "1 |  10\n",
      "2 |  20\n",
      "3 |  30\n",
      "4 |  40\n",
      "5 |  50\n"
     ]
    }
   ],
   "source": [
    "a = [10, 20, 30, 40, 50]\n",
    "for index, value in enumerate(a):\n",
    "    print(index + 1,'| ', value)"
   ]
  },
  {
   "cell_type": "markdown",
   "metadata": {},
   "source": [
    "하지만 좀 더 파이썬 다운 방법이 있습니다. 다음과 같이 enumerate에 start를 지정해주면 됩니다.    \n",
    "for 인덱스, 요소 in enumerate(리스트, start=숫자):"
   ]
  },
  {
   "cell_type": "code",
   "execution_count": 40,
   "metadata": {},
   "outputs": [
    {
     "name": "stdout",
     "output_type": "stream",
     "text": [
      "1 24\n",
      "2 38\n",
      "3 92\n",
      "4 18\n",
      "5 20\n",
      "6 30\n"
     ]
    }
   ],
   "source": [
    "for index, value in enumerate([24, 38, 92, 18, 20, 30], start = 1):\n",
    "    print(index, value)\n",
    "    "
   ]
  },
  {
   "cell_type": "markdown",
   "metadata": {},
   "source": [
    "**참고 | for 반복문에서 인덱스로 요소를 출력하기**    \n",
    "for에 리스트를 지정하면 요소를 바로 가져와서 편리한데, for에서 인덱스를 지정하여 요소를 가져올 수는 없을까요?     \n",
    "이때는 range에 len으로 리스트의 길이(요소 개수)를 구해서 넣어주면 인덱스를 순서대로 만들어줍니다.      \n",
    "따라서 a[i]와 같이 리스트에 인덱스를 지정하여 값을 가져올 수 있습니다."
   ]
  },
  {
   "cell_type": "code",
   "execution_count": 43,
   "metadata": {},
   "outputs": [
    {
     "name": "stdout",
     "output_type": "stream",
     "text": [
      "30\n",
      "20\n",
      "1\n",
      "20\n",
      "30\n",
      "50\n"
     ]
    }
   ],
   "source": [
    "a = [30, 20, 1, 20, 30, 50]\n",
    "for i in range(len(a)):\n",
    "    print(a[i])"
   ]
  },
  {
   "cell_type": "code",
   "execution_count": 4,
   "metadata": {},
   "outputs": [
    {
     "name": "stdout",
     "output_type": "stream",
     "text": [
      "30\n",
      "20\n",
      "1\n",
      "20\n",
      "30\n",
      "50\n"
     ]
    }
   ],
   "source": [
    "a = [30, 20, 1, 20, 30, 50]\n",
    "for i in a:\n",
    "    print(i)"
   ]
  },
  {
   "cell_type": "code",
   "execution_count": 11,
   "metadata": {},
   "outputs": [
    {
     "data": {
      "text/plain": [
       "[1, 2, 3, 4, 5, 6, 7, 8, 9, 10, [20, 30]]"
      ]
     },
     "execution_count": 11,
     "metadata": {},
     "output_type": "execute_result"
    }
   ],
   "source": [
    "a=[1,2,3,4,5,6,7,8,9,10]\n",
    "a.insert(len(a),[20,30])\n",
    "a"
   ]
  },
  {
   "cell_type": "code",
   "execution_count": 13,
   "metadata": {},
   "outputs": [
    {
     "data": {
      "text/plain": [
       "[10, 500, 600, 20, 30]"
      ]
     },
     "execution_count": 13,
     "metadata": {},
     "output_type": "execute_result"
    }
   ],
   "source": [
    "a = [10, 20, 30]\n",
    "a[1:1]= 500, 600\n",
    "a"
   ]
  },
  {
   "cell_type": "code",
   "execution_count": 18,
   "metadata": {},
   "outputs": [
    {
     "data": {
      "text/plain": [
       "[10, 20]"
      ]
     },
     "execution_count": 18,
     "metadata": {},
     "output_type": "execute_result"
    }
   ],
   "source": [
    "a = [10, 20, 30]\n",
    "a.pop()\n",
    "a"
   ]
  },
  {
   "cell_type": "code",
   "execution_count": 19,
   "metadata": {},
   "outputs": [
    {
     "data": {
      "text/plain": [
       "[10, 20]"
      ]
     },
     "execution_count": 19,
     "metadata": {},
     "output_type": "execute_result"
    }
   ],
   "source": [
    "a = [10, 20, 30]\n",
    "del a[2]\n",
    "a"
   ]
  }
 ],
 "metadata": {
  "kernelspec": {
   "display_name": "datascience",
   "language": "python",
   "name": "datascience"
  },
  "language_info": {
   "codemirror_mode": {
    "name": "ipython",
    "version": 3
   },
   "file_extension": ".py",
   "mimetype": "text/x-python",
   "name": "python",
   "nbconvert_exporter": "python",
   "pygments_lexer": "ipython3",
   "version": "3.8.5"
  }
 },
 "nbformat": 4,
 "nbformat_minor": 4
}
