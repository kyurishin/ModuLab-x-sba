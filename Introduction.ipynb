{
 "cells": [
  {
   "cell_type": "markdown",
   "metadata": {},
   "source": [
    "# 자기소개   \n",
    "   \n",
    "   \n",
    "---\n",
    "   \n",
    "\n",
    "```\n",
    "print(\"Hello Github\")\n",
    "```\n",
    "\n",
    "---\n",
    "\n",
    "\n",
    "##### 내가 좋아하는 **과일**은:  \n",
    "\n",
    "1. 포도 🍇   \n",
    "2. 바나나 🍌   \n",
    "3. 복숭아 🍑     \n",
    "\n",
    "\n",
    "\n",
    "##### 지금까지 오늘 내가 **공부한** 것은:  \n",
    "\n",
    "+ [아이펠](https://sbabasic.aiffel.io) __F2-17__ 까지 깨기! 🥋  \n",
    "  + Git & GitHub 개념 타파!\n",
    "  + Jupyter 사용법 배우기!\n",
    "  \n",
    "+ [코딩도장](https://edu.dojang/io) __P12__ 까지 깨기! 🥋   \n",
    "\n",
    "---\n",
    "\n",
    "<img src=\"https://i.pinimg.com/originals/4f/82/8d/4f828d05f82b8b7aedfe8be6a7d9d2a3.png\" width=\"300px\" height=\"300px\"></img>"
   ]
  }
 ],
 "metadata": {
  "kernelspec": {
   "display_name": "datascience",
   "language": "python",
   "name": "datascience"
  },
  "language_info": {
   "codemirror_mode": {
    "name": "ipython",
    "version": 3
   },
   "file_extension": ".py",
   "mimetype": "text/x-python",
   "name": "python",
   "nbconvert_exporter": "python",
   "pygments_lexer": "ipython3",
   "version": "3.8.5"
  }
 },
 "nbformat": 4,
 "nbformat_minor": 4
}
