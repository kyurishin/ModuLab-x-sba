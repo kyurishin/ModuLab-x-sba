{
 "cells": [
  {
   "cell_type": "markdown",
   "metadata": {},
   "source": [
    "# F3 // Coding with 🐍\n",
    "\n",
    "## Objectives\n",
    "\n",
    "---\n",
    "\n",
    "+ Understanding fundamental concepts of programming and apply the following :    \n",
    "\n",
    "\n",
    "    + 변수 (Variable)\n",
    "    + 함수 (Function)\n",
    "    + 연산자 (Operator)\n",
    "    + 제어문 (Control Statements)\n",
    "    + 자료형 (Data types)\n",
    "    \n",
    "+ Read and understand error messages \n",
    "\n",
    "+ Be able to understand codes based on learnt concepts      "
   ]
  },
  {
   "cell_type": "markdown",
   "metadata": {},
   "source": [
    "![함수 호출하기](https://upload.wikimedia.org/wikipedia/commons/3/3b/Function_machine2.svg \"함수\")"
   ]
  },
  {
   "cell_type": "markdown",
   "metadata": {},
   "source": [
    "When simplified as much as possible, a __function__ can be described as receiving __input__ and giving out an __output__ in Mathematics.\n",
    "\n",
    "\n",
    "f: x → y or f(x) = y, here f stands for function, x is an input and y is an output."
   ]
  },
  {
   "cell_type": "code",
   "execution_count": 40,
   "metadata": {},
   "outputs": [],
   "source": [
    "def say_hi_default(name='somebody'):\n",
    "    print (name + ' ' + '안녕!')\n"
   ]
  },
  {
   "cell_type": "code",
   "execution_count": 41,
   "metadata": {},
   "outputs": [
    {
     "name": "stdout",
     "output_type": "stream",
     "text": [
      "somebody 안녕!\n"
     ]
    }
   ],
   "source": [
    "    say_hi_default()"
   ]
  },
  {
   "cell_type": "code",
   "execution_count": 42,
   "metadata": {},
   "outputs": [],
   "source": [
    "def say_hi_name(name):\n",
    "    print (name + ' ' + '안녕!')"
   ]
  },
  {
   "cell_type": "code",
   "execution_count": 43,
   "metadata": {},
   "outputs": [
    {
     "name": "stdout",
     "output_type": "stream",
     "text": [
      "규리 안녕!\n"
     ]
    }
   ],
   "source": [
    "    say_hi_name('규리')"
   ]
  },
  {
   "cell_type": "code",
   "execution_count": 44,
   "metadata": {},
   "outputs": [],
   "source": [
    "def say_hi_nickname(nickname):\n",
    "    print (nickname + ' ' +'하이!')"
   ]
  },
  {
   "cell_type": "code",
   "execution_count": 45,
   "metadata": {},
   "outputs": [
    {
     "name": "stdout",
     "output_type": "stream",
     "text": [
      "귤 하이!\n"
     ]
    }
   ],
   "source": [
    "    say_hi_nickname('귤')"
   ]
  },
  {
   "cell_type": "code",
   "execution_count": 46,
   "metadata": {},
   "outputs": [],
   "source": [
    "def print_two(letter1, letter2):\n",
    "    print(letter1)\n",
    "    print(letter2)\n",
    "\n",
    "def print_and_return(letter1, letter2, letter3):\n",
    "    print_two(letter3, letter2)\n",
    "    return letter1"
   ]
  },
  {
   "cell_type": "code",
   "execution_count": 47,
   "metadata": {},
   "outputs": [
    {
     "name": "stdout",
     "output_type": "stream",
     "text": [
      "D\n",
      "C\n",
      "A\n",
      "B\n"
     ]
    }
   ],
   "source": [
    "print_two('A', print_and_return('B', 'C', 'D'))"
   ]
  },
  {
   "cell_type": "code",
   "execution_count": null,
   "metadata": {},
   "outputs": [],
   "source": []
  }
 ],
 "metadata": {
  "kernelspec": {
   "display_name": "aiffel",
   "language": "python",
   "name": "aiffel"
  },
  "language_info": {
   "codemirror_mode": {
    "name": "ipython",
    "version": 3
   },
   "file_extension": ".py",
   "mimetype": "text/x-python",
   "name": "python",
   "nbconvert_exporter": "python",
   "pygments_lexer": "ipython3",
   "version": "3.7.8"
  }
 },
 "nbformat": 4,
 "nbformat_minor": 4
}
