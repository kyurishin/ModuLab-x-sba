{
 "cells": [
  {
   "cell_type": "code",
   "execution_count": 4,
   "metadata": {},
   "outputs": [
    {
     "name": "stdout",
     "output_type": "stream",
     "text": [
      "코드 실행 중..🛸\n",
      "완료!\n"
     ]
    }
   ],
   "source": [
    "from tkinter import *\n",
    "\n",
    "print('코드 실행 중..🛸')\n",
    "window = Tk()\n",
    "window.title(\"Kyuri's First GUI\")\n",
    "window.mainloop()\n",
    "print('완료!')"
   ]
  },
  {
   "cell_type": "markdown",
   "metadata": {},
   "source": [
    "**동작원리**\n",
    "\n",
    "(1) tkinter 모듈을 임포트합니다.    \n",
    "\n",
    "> from tkinter import *\n",
    "\n",
    "(2) Tk 클래스의 인스턴스를 생성하고 인스턴스의 변수명을 window로 했습니다.\n",
    "\n",
    "> window = Tk()   \n",
    "\n",
    "(3) title 메소드를 이용해 window 인스턴스에 제목을 입력합니다.\n",
    "\n",
    "> window.title(\"My First GUI\")\n",
    "\n",
    "(4) mainloop 메서드를 호출해 window의 이벤트 루프를 시작합니다.\n",
    "\n",
    "> window.mainloop()"
   ]
  },
  {
   "cell_type": "code",
   "execution_count": 2,
   "metadata": {},
   "outputs": [
    {
     "name": "stdout",
     "output_type": "stream",
     "text": [
      "코드 실행 중..🛸\n",
      "완료!\n"
     ]
    }
   ],
   "source": [
    "from tkinter import *\n",
    "\n",
    "print('코드 실행 중..🛸')\n",
    "window = Tk()\n",
    "window.title(\"ex1_size\")       # 윈도우 타이틀바 제목을 지정합니다.\n",
    "\n",
    "# 윈도우 크기 조정\n",
    "window.geometry(\"480x320\")     # 창의 크기를 지정합니다.\n",
    "window.resizable(True, True)   # 가로, 세로 크기조절을 불가능하게 합니다.\n",
    "\n",
    "window.mainloop()\n",
    "print('완료!')"
   ]
  },
  {
   "cell_type": "code",
   "execution_count": 4,
   "metadata": {},
   "outputs": [
    {
     "name": "stdout",
     "output_type": "stream",
     "text": [
      "코드 실행 중..🛸\n",
      "완료!\n"
     ]
    }
   ],
   "source": [
    "from tkinter import *\n",
    "import tkinter.ttk as ttk\n",
    "\n",
    "print('코드 실행 중..🛸')\n",
    "window = Tk()\n",
    "window.title(\"ex2_label\")\n",
    "window.geometry(\"480x320\") \n",
    "window.resizable(False, False)\n",
    "\n",
    "# 라벨 생성\n",
    "label = ttk.Label(window,text='label')    # 라벨을 생성합니다. 텍스트 내용은 'label'로 합니다.\n",
    "label.grid(column=0, row=0)               # 위 생성된 라벨의 레이아웃을 지정합니다.\n",
    "\n",
    "window.mainloop()\n",
    "print('완료!')"
   ]
  },
  {
   "cell_type": "code",
   "execution_count": 6,
   "metadata": {},
   "outputs": [
    {
     "data": {
      "text/plain": [
       "['/Users/kyurishin/workplace/aiffel',\n",
       " '/Users/kyurishin/anaconda3/envs/aiffel/lib/python37.zip',\n",
       " '/Users/kyurishin/anaconda3/envs/aiffel/lib/python3.7',\n",
       " '/Users/kyurishin/anaconda3/envs/aiffel/lib/python3.7/lib-dynload',\n",
       " '',\n",
       " '/Users/kyurishin/anaconda3/envs/aiffel/lib/python3.7/site-packages',\n",
       " '/Users/kyurishin/anaconda3/envs/aiffel/lib/python3.7/site-packages/IPython/extensions',\n",
       " '/Users/kyurishin/.ipython']"
      ]
     },
     "execution_count": 6,
     "metadata": {},
     "output_type": "execute_result"
    }
   ],
   "source": [
    "# 모듈 위치가 헷갈리시는 분, 즉 import 했을 때 현재 어느 위치에서 모듈을 가져오는지 궁금하다면 sys.path 를 통해 확인이 가능합니다.\n",
    "\n",
    "import sys\n",
    "sys.path"
   ]
  },
  {
   "cell_type": "code",
   "execution_count": 8,
   "metadata": {},
   "outputs": [
    {
     "name": "stdout",
     "output_type": "stream",
     "text": [
      "코드 실행 중... 👽\n",
      "완료! 👾\n"
     ]
    }
   ],
   "source": [
    "from tkinter import*\n",
    "import tkinter.ttk as ttk\n",
    "\n",
    "print(\"코드 실행 중... 👽\")\n",
    "window = Tk()\n",
    "window.title(\"example_textbox\")\n",
    "window.geometry(\"480x320\")\n",
    "window.resizable(True, True)\n",
    "\n",
    "label1=ttk.Label(window, text='label')\n",
    "label1.grid(row=0, column=0)\n",
    "\n",
    "# 텍스트 박스 생성\n",
    "text1 = Text(window, width=60, height=40) # 텍스트박스 크기 지정, 생성\n",
    "text1.grid(row=1,column=0,padx=20,pady=10) # 생성된 텍스트박스 레이아웃 지정\n",
    "\n",
    "window.mainloop()\n",
    "print('완료! 👾')"
   ]
  },
  {
   "cell_type": "markdown",
   "metadata": {},
   "source": [
    "Tkinter로 위젯 버튼 만들기"
   ]
  },
  {
   "cell_type": "code",
   "execution_count": 10,
   "metadata": {},
   "outputs": [
    {
     "name": "stdout",
     "output_type": "stream",
     "text": [
      "코드 실행 중... 👽\n",
      "완료! 👾\n"
     ]
    }
   ],
   "source": [
    "from tkinter import*\n",
    "import tkinter.ttk as ttk\n",
    "import tkinter.messagebox as tmb\n",
    "\n",
    "print('코드 실행 중... 👽')\n",
    "window = Tk()\n",
    "window.title(\"위젯버튼\")\n",
    "window.geometry(\"480x320\")\n",
    "\n",
    "label1 = ttk.Label(window, text = \"라벨 위치\")\n",
    "label1.grid(column=0, row=0)\n",
    "\n",
    "# 버튼 클릭 이벤트 핸들러 정의\n",
    "def click():\n",
    "    label1.configure(text='버튼이 눌렸다.') # 버튼이 눌리면 라벨 텍스트값 바꿈\n",
    "    tmb.showinfo(\"버튼\", \"버튼 클릭됨!🤯\")\n",
    "    \n",
    "# 버튼 생성\n",
    "action = ttk.Button(window, text=\"버튼을 눌러\", command=click)\n",
    "action.grid(row=0, column=1)\n",
    "\n",
    "window.mainloop()\n",
    "print('완료! 👾')"
   ]
  },
  {
   "cell_type": "markdown",
   "metadata": {},
   "source": [
    "버튼의 동작을 간단하게 말하면 다음과 같다.\n",
    "\n",
    "- 버튼 동작은 click() 함수에 의해 선언되었습니다.\n",
    "- 버튼 객체를 생성하고, 버튼 동작의 연결은 command 키워드에 함수를 연결했습니다.\n",
    "\n",
    "그런데 조금 이상하죠? 버튼 동작을 command 키워드 인자로 할당한다는 것도 아니고 \"연결\"이라고 말하고 함수도 함수 이름만 썼네요. 무엇보다도 키워드 인자로 함수를 연결한다는 것 자체가 생소할텐데요. 이것은 이벤트에서 나오는 개념입니다. 하나하나 알아 보겠습니다.\n",
    "\n",
    "click() 함수\n",
    "- def 키워드로 선언 함수 입니다.\n",
    "- 이것은 버튼이 클릭되면 호출되는 동작으로 이벤트 핸들러라고도 합니다\n",
    "- Button 인스턴스에 command 키워드를 이용하여 이 함수를 바인딩했습니다.\n",
    "- command 키워드에 전달될 때는 특별히 콜백(callback) 함수라고 합니다.\n",
    "\n",
    "콜백 함수\n",
    "- 이벤트 바인딩에 의해 호출되는 함수를 콜백함수라고 합니다.\n",
    "- Tkinter에서는 command 에 의해 전달되어 생성되는 함수입니다.\n",
    "- 이 함수를 바인딩할 때는 괄호를 쓰지 않아요.\n",
    "- 파이썬에서 함수를 호출할 때 함수명과 ()를 씁니다. 근데 여기서는 함수 이름만 적었어요. 이렇게 함수를 매개변수 형태로 전달하는 것을 콜백 함수라고 합니다.\n",
    "\n",
    "이벤트 핸들러\n",
    "- 이벤트가 발생할 경우 처리할 동작을 의미합니다.\n",
    "- 위의 예시의 경우 \"버튼을 클릭\" 이라는 이벤트가 발생할 경우 행해지는 동작인 click() 이 이벤트 핸들러가 됩니다.\n",
    "\n",
    "바인딩\n",
    "- 바인딩(Binding) : \"결속시키다\", \"고정시키다\"라는 뜻을 가진 이 단어는 객체와 속성 혹은 메서드를 결합해 준다는 의미입니다.\n",
    "- 즉 우리는 Button 객체에 콜백 함수를 command 란 키워드를 이용해 바인딩하였습니다."
   ]
  },
  {
   "cell_type": "code",
   "execution_count": 16,
   "metadata": {},
   "outputs": [
    {
     "name": "stdout",
     "output_type": "stream",
     "text": [
      "code running...\n",
      "complete\n"
     ]
    }
   ],
   "source": [
    "from tkinter import*\n",
    "import tkinter.ttk as ttk\n",
    "import tkinter.messagebox as tmb\n",
    "\n",
    "print('code running...')\n",
    "window = Tk()\n",
    "window.title(\"example_button\")\n",
    "window.geometry(\"480x320\")\n",
    "\n",
    "label1 = ttk.Label(window, text = \"testing etc widgets\")\n",
    "label1.grid(column = 0, row = 0)\n",
    "\n",
    "# 콤보 생성\n",
    "combo = ttk.Combobox(window, width=10)\n",
    "combo['values']=(\"A\",\"B\",\"C\")\n",
    "combo.current(0)                      # set the selected item\n",
    "combo.grid(row = 1, column = 1)\n",
    "\n",
    "# 버튼 클릭 이벤트 핸들러 정의\n",
    "def click():\n",
    "    label1.configure(text='버튼이 눌렸다')\n",
    "    tmb.showinfo(\"버튼\", combo.get())\n",
    "    \n",
    "# 버튼 생성\n",
    "action = ttk.Button(window, text=\"버튼 눌러\", command=click)\n",
    "action.grid(row = 0, column = 1)\n",
    "\n",
    "window.mainloop()\n",
    "print('complete')"
   ]
  },
  {
   "cell_type": "code",
   "execution_count": 77,
   "metadata": {},
   "outputs": [
    {
     "name": "stdout",
     "output_type": "stream",
     "text": [
      "코드 실행 중..🛸\n",
      "완료!\n"
     ]
    }
   ],
   "source": [
    "from tkinter import *\n",
    "import tkinter.ttk as ttk\n",
    "\n",
    "print('코드 실행 중..🛸')\n",
    "window = Tk()   \n",
    "window.title(\"콤보_텍스트박스\")   \n",
    "window.geometry(\"1024x512\")                   # 윈도우 크기를 좀더 키웁시다.\n",
    "\n",
    "label1 = ttk.Label(window, text=\"Label\")\n",
    "label1.grid(column=0, row=0)\n",
    "\n",
    "combo = ttk.Combobox(window, width=10)\n",
    "combo['values']= (\"A\", \"B\", \"C\")\n",
    "combo.current(0)                              #set the selected item\n",
    "combo.grid(row=1, column=1)\n",
    "\n",
    "# 텍스트 박스 2개 생성\n",
    "text1 = Text(window, width=60, height=40)\n",
    "text2 = Text(window, width=60, height=40)\n",
    "text1.grid(row=2, column=0, padx=20, pady=10)   \n",
    "text2.grid(row=2, column=1, padx=20, pady=10)\n",
    "\n",
    "# 버튼클릭 이벤트 핸들러 정의\n",
    "def click():\n",
    "    label1.configure(text='버튼이 눌렸다.')   \n",
    "    text1_string = text1.get(\"1.0\",\"end\")                        # text1의 텍스트값을 가져와서\n",
    "    text2_string = \"{} and {}\".format(text1_string, combo.get()) # text2에 들어갈 텍스트값을 생성한 후\n",
    "    text2.delete(1.0, \"end\")                                     # text2의 텍스트값을 초기화하고 나서 \n",
    "    text2.insert(\"end\", text2_string)                            # text2에 새로 생성한 텍스트를 넣어줍니다.  \n",
    "\n",
    "action = ttk.Button(window, text=\"옆에 버튼 눌러\", command=click)   \n",
    "action.grid(row=0, column=1)\n",
    "\n",
    "window.mainloop()\n",
    "print('완료!')"
   ]
  },
  {
   "cell_type": "code",
   "execution_count": 36,
   "metadata": {},
   "outputs": [
    {
     "name": "stdout",
     "output_type": "stream",
     "text": [
      "코드 실행 중..🛸\n",
      "완료!\n"
     ]
    }
   ],
   "source": [
    "from tkinter import *\n",
    "import tkinter.ttk as ttk\n",
    "\n",
    "print('코드 실행 중..🛸')\n",
    "window = Tk()\n",
    "window.title(\"Login\")\n",
    "window.geometry(\"480x320\") \n",
    "\n",
    "Label(window, text=\"forename\").grid(row=0)      # row=0, column=0\n",
    "Label(window, text=\"surname\").grid(row=1)     # row=1, column=0\n",
    "Label(window, text=\"address\").grid(row=2)\n",
    "Label(window, text=\"postcode\").grid(row=2, column=2)\n",
    "\n",
    "entry1 = Entry(window)\n",
    "entry2 = Entry(window)\n",
    "entry3 = Entry(window)\n",
    "entry4 = Entry(window)\n",
    "\n",
    "entry1.grid(row=0, column=1)    # row=0, column=1\n",
    "entry2.grid(row=1, column=1)    # row=1, column=1\n",
    "entry3.grid(row=2, column=1)    # row=1, column=1\n",
    "entry4.grid(row=2, column=3)\n",
    "\n",
    "window.mainloop()\n",
    "print('완료!')"
   ]
  },
  {
   "cell_type": "markdown",
   "metadata": {},
   "source": [
    "**grid 메소드의 인자**\n",
    "- column: 위젯을 넣을 열\n",
    "- columnspan : 위젯이 차지하는 열의 수 (열방향으로 병합하는 셀의 갯수)\n",
    "- row : 위젯을 넣을 행\n",
    "- rowspan : 위젯이 차지하는 행의 수(행방향으로 병합하는 셀의 갯수)\n",
    "- sticky, ipadx, ipady, padx, pady 로 위치와 여백을 조정할 수 있습니다."
   ]
  },
  {
   "cell_type": "code",
   "execution_count": 46,
   "metadata": {},
   "outputs": [
    {
     "name": "stdout",
     "output_type": "stream",
     "text": [
      "코드 실행 중..🛸\n",
      "완료!\n"
     ]
    }
   ],
   "source": [
    "from tkinter import *\n",
    "import tkinter.ttk as ttk\n",
    "\n",
    "print('코드 실행 중..🛸')\n",
    "window = Tk()\n",
    "window.title(\"Login_grid\")\n",
    "window.geometry(\"530x320\") \n",
    "\n",
    "Label(window, text=\"forename\").grid(row=0)      # row=0, column=0\n",
    "Label(window, text=\"surname\").grid(row=1)       # row=1, column=0\n",
    "Label(window, text=\"address\").grid(row=2)\n",
    "Label(window, text=\"postcode\").grid(row=2, column=2)\n",
    "\n",
    "entry1 = Entry(window)\n",
    "entry2 = Entry(window)\n",
    "entry3 = Entry(window)\n",
    "entry4 = Entry(window)\n",
    "\n",
    "entry1.grid(row=0, column=1, columnspan=1)    # row=0, column=1\n",
    "entry2.grid(row=1, column=1, columnspan=1)    # row=1, column=1\n",
    "entry3.grid(row=2, column=1, rowspan=3)    # row=2, column=1\n",
    "entry4.grid(row=2, column=3, columnspan=1)    # row=2, column=3\n",
    "\n",
    "window.mainloop()\n",
    "print('완료!')"
   ]
  },
  {
   "cell_type": "code",
   "execution_count": 47,
   "metadata": {},
   "outputs": [
    {
     "name": "stdout",
     "output_type": "stream",
     "text": [
      "running code...\n",
      "complete\n"
     ]
    }
   ],
   "source": [
    "from tkinter import*\n",
    "import tkinter.ttk as ttk\n",
    "\n",
    "print('running code...')\n",
    "window = Tk()\n",
    "window.title(\"Login_pack\")\n",
    "window.geometry(\"530x320\")\n",
    "\n",
    "Label(window,text=\"email address\").pack()\n",
    "Label(window, text=\"password\").pack()\n",
    "\n",
    "entry1 = Entry(window)\n",
    "entry2 = Entry(window)\n",
    "entry1.pack()\n",
    "entry2.pack()\n",
    "\n",
    "window.mainloop()\n",
    "print('complete')"
   ]
  },
  {
   "cell_type": "code",
   "execution_count": 52,
   "metadata": {},
   "outputs": [
    {
     "name": "stdout",
     "output_type": "stream",
     "text": [
      "코드 실행 중..🛸\n",
      "완료!\n"
     ]
    }
   ],
   "source": [
    "from tkinter import *\n",
    "import tkinter.ttk as ttk\n",
    "\n",
    "print('코드 실행 중..🛸')\n",
    "window = Tk()\n",
    "window.title(\"Layout_pack\")\n",
    "window.geometry(\"530x320\") \n",
    "\n",
    "B1 = Button(window, text=\"9\").pack(side=\"left\")\n",
    "B2 = Button(window, text=\"3\").pack(side=\"right\")\n",
    "B3 = Button(window, text=\"12\").pack(side=\"top\")\n",
    "B4 = Button(window, text=\"6\").pack(side=\"bottom\")\n",
    "\n",
    "window.mainloop()\n",
    "print('완료!')"
   ]
  },
  {
   "cell_type": "code",
   "execution_count": 68,
   "metadata": {},
   "outputs": [
    {
     "name": "stdout",
     "output_type": "stream",
     "text": [
      "코드 실행 중..🛸\n",
      "완료!\n"
     ]
    }
   ],
   "source": [
    "from tkinter import *\n",
    "import tkinter.ttk as ttk\n",
    "\n",
    "print('코드 실행 중..🛸')\n",
    "window = Tk()\n",
    "window.title(\"Layout_pack_clock\")\n",
    "window.geometry(\"500x500\") \n",
    "\n",
    "B1 = Button(window, text=\"9\", padx=5, pady=10).pack(side=\"left\", padx=20, pady=20)\n",
    "B2 = Button(window, text=\"3\", padx=5, pady=10).pack(side=\"right\", padx=20, pady=20)\n",
    "B3 = Button(window, text=\"12\", padx=2, pady=10).pack(side=\"top\", padx=20, pady=20)\n",
    "B4 = Button(window, text=\"6\", padx=5, pady=10).pack(side=\"bottom\", padx=20, pady=20)\n",
    "\n",
    "window.mainloop()\n",
    "print('완료!')"
   ]
  },
  {
   "cell_type": "code",
   "execution_count": 70,
   "metadata": {},
   "outputs": [
    {
     "name": "stdout",
     "output_type": "stream",
     "text": [
      "running code...🛸\n",
      "완료!\n"
     ]
    }
   ],
   "source": [
    "from tkinter import *\n",
    "import tkinter.ttk as ttk\n",
    "\n",
    "print('running code...🛸')\n",
    "window = Tk()\n",
    "window.title(\"Layout_place\")\n",
    "window.geometry(\"520x320\") \n",
    "\n",
    "Label(window, text=\"First\").place(x=10,y=50)\n",
    "Label(window, text=\"Second\").place(x=10,y=80)\n",
    "\n",
    "e1 = Entry(window)\n",
    "e2 = Entry(window)\n",
    "e1.place(x=80,y=50)\n",
    "e2.place(x=80,y=80)\n",
    "\n",
    "window.mainloop()\n",
    "print('완료!')"
   ]
  },
  {
   "cell_type": "raw",
   "metadata": {},
   "source": [
    "> $ pip install googletrans"
   ]
  },
  {
   "cell_type": "code",
   "execution_count": 75,
   "metadata": {},
   "outputs": [
    {
     "data": {
      "text/plain": [
       "'Hi'"
      ]
     },
     "execution_count": 75,
     "metadata": {},
     "output_type": "execute_result"
    }
   ],
   "source": [
    "from googletrans import Translator\n",
    "def translate(input_str, lang='en'):\n",
    "    translator=Translator()\n",
    "    result=translator.translate(input_str, dest=lang)\n",
    "    return result.text\n",
    "\n",
    "translate('안녕',lang='en')"
   ]
  },
  {
   "cell_type": "code",
   "execution_count": null,
   "metadata": {},
   "outputs": [],
   "source": [
    "from tkinter import *\n",
    "import tkinter.ttk as ttk\n",
    "from PIL import Image, ImageTk\n",
    "import tkinter as tk\n",
    "from googletrans import Translator\n",
    "\n",
    "print('running code...🛸')\n",
    "window = Tk()\n",
    "window.title(\"Kyoogle Translator\")\n",
    "\n",
    "root = tk.Tk()\n",
    "\n",
    "# Set the background colour of GUI window   \n",
    "window.configure(background = '#4c8bf5')\n",
    "\n",
    "window.geometry(\"910x700\")\n",
    "window.resizable(False,False)\n",
    "\n",
    "# 라벨 생성\n",
    "Label(window, text=\"💭\", font=(None,40), bg = '#4c8bf5').grid(row=1, column=0, pady=0, padx=20)\n",
    "Label(window, text=\"💬\", font=(None,40), bg = '#4c8bf5').grid(row=1, column=2, pady=0, padx=20)\n",
    "Label(window, text=\"🌐\", font=(None,25), bg = '#4c8bf5').grid(row=0, column=1, pady=10)\n",
    "\n",
    "# 콤보박스 생성\n",
    "combo = ttk.Combobox(window, width=10)\n",
    "combo['values']= (\"en\", \"ko\", \"de\", \"ja\", \"zh\")\n",
    "combo.current(0) #set the selected item\n",
    "combo.grid(row=1, column=1)\n",
    "\n",
    "# 텍스트 박스 생성\n",
    "text1 = Text(window, width=50, height=40)\n",
    "text2 = Text(window, width=50, height=40)\n",
    "text1.grid(row=4, column=0, padx=20)   \n",
    "text2.grid(row=4, column=2, padx=20)\n",
    "\n",
    "\n",
    "# 번역기 함수\n",
    "def translate(input_string, lang='en'):\n",
    "    translator = Translator()\n",
    "    result = translator.translate(input_string, dest=lang)\n",
    "    return result.text\n",
    "\n",
    "# 버튼클릭 콜백 함수    \n",
    "def click():\n",
    "    input_string = text1.get(\"1.0\",\"end\")                        # text1의 인풋 문장을 가져와서\n",
    "    lang = combo.get()\n",
    "    output_string = translate(input_string, lang=lang)           # text2에 들어갈 번역문 값을 생성한 후\n",
    "    text2.delete(1.0, \"end\")                                     # text2의 텍스트값을 초기화하고 나서 \n",
    "    text2.insert(\"end\", output_string)                           # text2에 새로 생성한 번역문을 보여줌.  \n",
    "    \n",
    "# 번역끝남 선언\n",
    "def alert():\n",
    "        print(\"translated successfully! ✔️\")\n",
    "\n",
    "# 버튼 생성    \n",
    "action = tk.Button(window, bg='#3cba54', relief='flat', text=\"🔁\", font=(None,20), command=click)\n",
    "action.grid(row = 3, column = 1)\n",
    "\n",
    "window.mainloop()\n",
    "print('완료!')"
   ]
  },
  {
   "cell_type": "code",
   "execution_count": null,
   "metadata": {},
   "outputs": [],
   "source": []
  }
 ],
 "metadata": {
  "kernelspec": {
   "display_name": "aiffel",
   "language": "python",
   "name": "aiffel"
  },
  "language_info": {
   "codemirror_mode": {
    "name": "ipython",
    "version": 3
   },
   "file_extension": ".py",
   "mimetype": "text/x-python",
   "name": "python",
   "nbconvert_exporter": "python",
   "pygments_lexer": "ipython3",
   "version": "3.7.8"
  }
 },
 "nbformat": 4,
 "nbformat_minor": 4
}
