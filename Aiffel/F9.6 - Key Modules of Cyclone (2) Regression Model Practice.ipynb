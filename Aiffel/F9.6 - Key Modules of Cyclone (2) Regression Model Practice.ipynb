{
 "cells": [
  {
   "cell_type": "markdown",
   "metadata": {},
   "source": [
    "# 데이터와 머신러닝의 회귀 모델을 이용해 데이터를 예측하는 모델을 만들어 보기\n",
    "\n",
    "---"
   ]
  },
  {
   "cell_type": "code",
   "execution_count": 2,
   "metadata": {},
   "outputs": [
    {
     "data": {
      "text/plain": [
       "<matplotlib.collections.PathCollection at 0x7fcfd8cf1990>"
      ]
     },
     "execution_count": 2,
     "metadata": {},
     "output_type": "execute_result"
    },
    {
     "data": {
      "image/png": "[encoded data removed]",
      "text/plain": [
       "<Figure size 432x288 with 1 Axes>"
      ]
     },
     "metadata": {
      "needs_background": "light"
     },
     "output_type": "display_data"
    }
   ],
   "source": [
    "import numpy as np                 # NumPy 불러오기\n",
    "import matplotlib.pyplot as plt    # matplotlib으로 그래프 구현하기 \n",
    "r = np.random.RandomState(10)\n",
    "x = 10 * r.rand(100)               # randint()함수\n",
    "y = 2 * x - 3 * r.rand(100)\n",
    "plt.scatter(x,y)"
   ]
  },
  {
   "cell_type": "markdown",
   "metadata": {},
   "source": [
    "입력 데이터 <mark>x</mark>와 정답 데이터 <mark>y</mark>의 모양을 확인해 보도록 합시다."
   ]
  },
  {
   "cell_type": "code",
   "execution_count": 6,
   "metadata": {},
   "outputs": [
    {
     "data": {
      "text/plain": [
       "(100,)"
      ]
     },
     "execution_count": 6,
     "metadata": {},
     "output_type": "execute_result"
    }
   ],
   "source": [
    "x.shape"
   ]
  },
  {
   "cell_type": "code",
   "execution_count": 7,
   "metadata": {},
   "outputs": [
    {
     "data": {
      "text/plain": [
       "(100,)"
      ]
     },
     "execution_count": 7,
     "metadata": {},
     "output_type": "execute_result"
    }
   ],
   "source": [
    "y.shape"
   ]
  },
  {
   "cell_type": "markdown",
   "metadata": {},
   "source": [
    "<mark>x</mark>와 <mark>y</mark>의 모양은 (100,)으로 <mark>1차원 벡터</mark>입니다.\n",
    "\n",
    "사이킷런에서 머신러닝 모델을 사용하기 위해서 우선 <mark>모델 객체</mark>를 생성해 줍니다.      \n",
    "지금 예제에서 사용할 모델의 이름은 **LinearRegression** 이며,     \n",
    "이것은 **sklearn.linear_model** 안에 있습니다."
   ]
  },
  {
   "cell_type": "code",
   "execution_count": 9,
   "metadata": {},
   "outputs": [
    {
     "data": {
      "text/plain": [
       "LinearRegression()"
      ]
     },
     "execution_count": 9,
     "metadata": {},
     "output_type": "execute_result"
    }
   ],
   "source": [
    "from sklearn.linear_model import LinearRegression\n",
    "model = LinearRegression()\n",
    "model"
   ]
  },
  {
   "cell_type": "markdown",
   "metadata": {},
   "source": [
    "**LinearRegression** 모델이 잘 생성되었습니다.\n",
    "\n",
    "> **fit(  )**이라고 하는 메소드로 이 모델을 훈련시킵니다.\n",
    "\n",
    "fit(  )메소드에 인자로 특성 행렬과 타겟 벡터를 넣어 줍니다.      \n",
    "즉, 행렬 형태의 입력 데이터와 1차원 벡터 형태의 정답(라벨)을 각각 넣어 줍니다."
   ]
  },
  {
   "cell_type": "code",
   "execution_count": 13,
   "metadata": {},
   "outputs": [],
   "source": [
    "# 에러가 뜰겁니다.\n",
    "# model.fit(x, y)"
   ]
  },
  {
   "cell_type": "markdown",
   "metadata": {},
   "source": [
    "위의 에러가 난 이유는 x를 행렬로 바꾸지 않아서 입니다.      \n",
    "x는 numpy의 ndarray 타입이니까 reshape( )로 바꿔 주는 것이 올바릅니다.     \n",
    "통상 특성 행렬의 변수명은 X로 한다고 했습니다. 변수명 X에 특성 행렬을 넣어 봅시다."
   ]
  },
  {
   "cell_type": "code",
   "execution_count": 12,
   "metadata": {},
   "outputs": [
    {
     "data": {
      "text/plain": [
       "LinearRegression()"
      ]
     },
     "execution_count": 12,
     "metadata": {},
     "output_type": "execute_result"
    }
   ],
   "source": [
    "X = x.reshape(100,1)\n",
    "# 이제 X를 fit()의 인자로 넣어줍니다.\n",
    "model.fit(X,y)"
   ]
  },
  {
   "cell_type": "markdown",
   "metadata": {},
   "source": [
    "입력 데이터와 그 라벨을 이용해 훈련을 완료했습니다.     \n",
    "\n",
    "이제 새로운 데이터를 넣고 예측을 한번 해볼까요? 새로운 데이터는 **np.linspace()**를 이용해서 생성합시다.      \n",
    "예측은 **predict()**를 사용합니다. predict()의 인자 역시 **행렬**로 넣어 주어야 합니다."
   ]
  },
  {
   "cell_type": "code",
   "execution_count": 15,
   "metadata": {},
   "outputs": [],
   "source": [
    "x_new = np.linspace(-1, 11, 100)\n",
    "X_new = x_new.reshape(100,1)\n",
    "y_new = model.predict(X_new)"
   ]
  },
  {
   "cell_type": "markdown",
   "metadata": {},
   "source": [
    "> ### **<u>Tip</u>**    \n",
    "reshape() 함수에서 나머지 숫자를 -1로 넣으면 자동으로 남은 숫자를 계산해 줍니다.     \n",
    "즉, x_new의 인자의 개수가 100개이므로, (100, 1)의 형태나 (2, 50)의 형태 등으로 변환해 줄 수 있는데요.     \n",
    "(2, -1)을 인자(divisor)로 넣으면 (2, 50)의 형태로 자동으로 변환해 줍니다. 아래 코드를 통해 확인해 보세요."
   ]
  },
  {
   "cell_type": "code",
   "execution_count": 17,
   "metadata": {},
   "outputs": [
    {
     "data": {
      "text/plain": [
       "(100, 1)"
      ]
     },
     "execution_count": 17,
     "metadata": {},
     "output_type": "execute_result"
    }
   ],
   "source": [
    "X_ = x_new.reshape(-1,1)\n",
    "X_.shape"
   ]
  },
  {
   "cell_type": "markdown",
   "metadata": {},
   "source": [
    "학습된 회귀 모델이 잘 예측했는지 모델의 성능을 평가해 보도록 하겠습니다.     \n",
    "\n",
    "앞에서 간단히 소개하였듯이 모델의 성능 평가 관련 모듈은 <mark>sklearn.metrics</mark>에 저장되어 있습니다.     \n",
    "회귀 모델의 경우 <mark>RMSE(Root Mean Square Error)</mark>를 사용해 성능을 평가합니다.\n",
    "\n",
    "사이킷런의 RMSE 오차 관련 함수의 스펙을 직접 확인해 보고 코드로 구현해 보세요.     \n",
    "*힌트! <mark>mean_squared_error</mark> 함수의 공식을 유심히 보세요. <mark>np.sqrt</mark>를 활용해 보세요.*"
   ]
  },
  {
   "cell_type": "code",
   "execution_count": 19,
   "metadata": {},
   "outputs": [],
   "source": [
    "from sklearn.metrics import mean_squared_error\n",
    "\n",
    "# error = # 직접 구현해 보세요\n",
    "\n",
    "# 배열 원소의 제곱근(Square Root) 범용 함수 : np.sqrt(y)\n",
    "\n",
    "error = np.sqrt(mean_squared_error(y,y_new))"
   ]
  },
  {
   "cell_type": "code",
   "execution_count": 20,
   "metadata": {},
   "outputs": [
    {
     "data": {
      "text/plain": [
       "[<matplotlib.lines.Line2D at 0x7fcfd918c8d0>]"
      ]
     },
     "execution_count": 20,
     "metadata": {},
     "output_type": "execute_result"
    },
    {
     "data": {
      "image/png": "[encoded data removed]",
      "text/plain": [
       "<Figure size 432x288 with 1 Axes>"
      ]
     },
     "metadata": {
      "needs_background": "light"
     },
     "output_type": "display_data"
    }
   ],
   "source": [
    "plt.scatter(x, y, label='input data')\n",
    "plt.plot(X_new, y_new, color='black', label='regression line')"
   ]
  }
 ],
 "metadata": {
  "kernelspec": {
   "display_name": "aiffel",
   "language": "python",
   "name": "aiffel"
  },
  "language_info": {
   "codemirror_mode": {
    "name": "ipython",
    "version": 3
   },
   "file_extension": ".py",
   "mimetype": "text/x-python",
   "name": "python",
   "nbconvert_exporter": "python",
   "pygments_lexer": "ipython3",
   "version": "3.7.8"
  }
 },
 "nbformat": 4,
 "nbformat_minor": 4
}
