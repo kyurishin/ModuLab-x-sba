{
 "cells": [
  {
   "cell_type": "markdown",
   "metadata": {},
   "source": [
    "# 데이터 전처리 // data preprocessing\n",
    "\n",
    "# 학습 목표\n",
    "---\n",
    "- 중복된 데이터를 찾아 제거할 수 있고, 결측치(missing data)를 제거하거나 채워 넣을 수 있다.\n",
    "- 데이터를 정규화시킬 수 있다.\n",
    "- 이상치(outlier)를 찾고, 이를 처리할 수 있다.\n",
    "- 범주형 데이터를 원-핫 인코딩할 수 있다.\n",
    "- 연속적인 데이터를 구간으로 나눠 범주형 데이터로 변환할 수 있다.\n",
    "\n",
    "\n",
    "\n",
    "# 배울 내용 \n",
    "---\n",
    "- 결측치(Missing Data)\n",
    "- 중복된 데이터(Duplicated Data)\n",
    "- 이상치(Outlier)\n",
    "- 정규화(Normalization)\n",
    "- 원-핫 인코딩(One-Hot Encoding)\n",
    "- Binning"
   ]
  },
  {
   "cell_type": "raw",
   "metadata": {},
   "source": [
    "mkdir -p ~/aiffel/data_preprocess/data\n",
    "wget https://aiffelstaticprd.blob.core.windows.net/media/documents/trade.csv\n",
    "mv trade.csv ~/aiffel/data_preprocess/data"
   ]
  },
  {
   "cell_type": "code",
   "execution_count": 2,
   "metadata": {},
   "outputs": [
    {
     "name": "stdout",
     "output_type": "stream",
     "text": [
      "Hello\n"
     ]
    }
   ],
   "source": [
    "import pandas as pd\n",
    "import numpy as np\n",
    "import matplotlib.pyplot as plt\n",
    "\n",
    "print(\"Hello\")"
   ]
  },
  {
   "cell_type": "code",
   "execution_count": 3,
   "metadata": {},
   "outputs": [
    {
     "data": {
      "text/html": [
       "<div>\n",
       "<style scoped>\n",
       "    .dataframe tbody tr th:only-of-type {\n",
       "        vertical-align: middle;\n",
       "    }\n",
       "\n",
       "    .dataframe tbody tr th {\n",
       "        vertical-align: top;\n",
       "    }\n",
       "\n",
       "    .dataframe thead th {\n",
       "        text-align: right;\n",
       "    }\n",
       "</style>\n",
       "<table border=\"1\" class=\"dataframe\">\n",
       "  <thead>\n",
       "    <tr style=\"text-align: right;\">\n",
       "      <th></th>\n",
       "      <th>기간</th>\n",
       "      <th>국가명</th>\n",
       "      <th>수출건수</th>\n",
       "      <th>수출금액</th>\n",
       "      <th>수입건수</th>\n",
       "      <th>수입금액</th>\n",
       "      <th>무역수지</th>\n",
       "      <th>기타사항</th>\n",
       "    </tr>\n",
       "  </thead>\n",
       "  <tbody>\n",
       "    <tr>\n",
       "      <th>0</th>\n",
       "      <td>2015년 01월</td>\n",
       "      <td>중국</td>\n",
       "      <td>116932.0</td>\n",
       "      <td>12083947.0</td>\n",
       "      <td>334522.0</td>\n",
       "      <td>8143271.0</td>\n",
       "      <td>3940676.0</td>\n",
       "      <td>NaN</td>\n",
       "    </tr>\n",
       "    <tr>\n",
       "      <th>1</th>\n",
       "      <td>2015년 01월</td>\n",
       "      <td>미국</td>\n",
       "      <td>65888.0</td>\n",
       "      <td>5561545.0</td>\n",
       "      <td>509564.0</td>\n",
       "      <td>3625062.0</td>\n",
       "      <td>1936484.0</td>\n",
       "      <td>NaN</td>\n",
       "    </tr>\n",
       "    <tr>\n",
       "      <th>2</th>\n",
       "      <td>2015년 01월</td>\n",
       "      <td>일본</td>\n",
       "      <td>54017.0</td>\n",
       "      <td>2251307.0</td>\n",
       "      <td>82480.0</td>\n",
       "      <td>3827247.0</td>\n",
       "      <td>-1575940.0</td>\n",
       "      <td>NaN</td>\n",
       "    </tr>\n",
       "    <tr>\n",
       "      <th>3</th>\n",
       "      <td>2015년 02월</td>\n",
       "      <td>중국</td>\n",
       "      <td>86228.0</td>\n",
       "      <td>9927642.0</td>\n",
       "      <td>209100.0</td>\n",
       "      <td>6980874.0</td>\n",
       "      <td>2946768.0</td>\n",
       "      <td>NaN</td>\n",
       "    </tr>\n",
       "    <tr>\n",
       "      <th>4</th>\n",
       "      <td>2015년 02월</td>\n",
       "      <td>미국</td>\n",
       "      <td>60225.0</td>\n",
       "      <td>5021264.0</td>\n",
       "      <td>428678.0</td>\n",
       "      <td>2998216.0</td>\n",
       "      <td>2023048.0</td>\n",
       "      <td>NaN</td>\n",
       "    </tr>\n",
       "  </tbody>\n",
       "</table>\n",
       "</div>"
      ],
      "text/plain": [
       "          기간 국가명      수출건수        수출금액      수입건수       수입금액       무역수지  기타사항\n",
       "0  2015년 01월  중국  116932.0  12083947.0  334522.0  8143271.0  3940676.0   NaN\n",
       "1  2015년 01월  미국   65888.0   5561545.0  509564.0  3625062.0  1936484.0   NaN\n",
       "2  2015년 01월  일본   54017.0   2251307.0   82480.0  3827247.0 -1575940.0   NaN\n",
       "3  2015년 02월  중국   86228.0   9927642.0  209100.0  6980874.0  2946768.0   NaN\n",
       "4  2015년 02월  미국   60225.0   5021264.0  428678.0  2998216.0  2023048.0   NaN"
      ]
     },
     "execution_count": 3,
     "metadata": {},
     "output_type": "execute_result"
    }
   ],
   "source": [
    "import os\n",
    "\n",
    "csv_file_path=os.getenv('HOME')+'/aiffel/data_preprocess/data/trade.csv'\n",
    "trade = pd.read_csv(csv_file_path)\n",
    "trade.head()"
   ]
  },
  {
   "cell_type": "markdown",
   "metadata": {},
   "source": [
    "## 결측치(missing value)를 처리하는 방법은 크게 두 가지가 있습니다.      \n",
    "\n",
    "- 결측치가 있는 데이터를 제거한다. // remove data value in data    \n",
    "- 결측치를 어떤 값으로 대체한다.  // replace missing value with another value    \n",
    "    - 결측치를 대체하는 방법은 다양한데 데이터마다 특성을 반영하여 해결해야 합니다.      \n",
    "      // there are many ways to replace missing value but you gotta reflect each data's characteristics."
   ]
  },
  {
   "cell_type": "code",
   "execution_count": 4,
   "metadata": {},
   "outputs": [
    {
     "name": "stdout",
     "output_type": "stream",
     "text": [
      "전체 데이터 건수: 199\n"
     ]
    }
   ],
   "source": [
    "print('전체 데이터 건수:',len(trade))"
   ]
  },
  {
   "cell_type": "code",
   "execution_count": 5,
   "metadata": {},
   "outputs": [
    {
     "name": "stdout",
     "output_type": "stream",
     "text": [
      "컬럼별 결측치 개수\n"
     ]
    },
    {
     "data": {
      "text/plain": [
       "기간        0\n",
       "국가명       0\n",
       "수출건수      3\n",
       "수출금액      4\n",
       "수입건수      3\n",
       "수입금액      3\n",
       "무역수지      4\n",
       "기타사항    199\n",
       "dtype: int64"
      ]
     },
     "execution_count": 5,
     "metadata": {},
     "output_type": "execute_result"
    }
   ],
   "source": [
    "print('컬럼별 결측치 개수')\n",
    "len(trade)-trade.count()"
   ]
  },
  {
   "cell_type": "code",
   "execution_count": 6,
   "metadata": {},
   "outputs": [
    {
     "data": {
      "text/html": [
       "<div>\n",
       "<style scoped>\n",
       "    .dataframe tbody tr th:only-of-type {\n",
       "        vertical-align: middle;\n",
       "    }\n",
       "\n",
       "    .dataframe tbody tr th {\n",
       "        vertical-align: top;\n",
       "    }\n",
       "\n",
       "    .dataframe thead th {\n",
       "        text-align: right;\n",
       "    }\n",
       "</style>\n",
       "<table border=\"1\" class=\"dataframe\">\n",
       "  <thead>\n",
       "    <tr style=\"text-align: right;\">\n",
       "      <th></th>\n",
       "      <th>기간</th>\n",
       "      <th>국가명</th>\n",
       "      <th>수출건수</th>\n",
       "      <th>수출금액</th>\n",
       "      <th>수입건수</th>\n",
       "      <th>수입금액</th>\n",
       "      <th>무역수지</th>\n",
       "    </tr>\n",
       "  </thead>\n",
       "  <tbody>\n",
       "    <tr>\n",
       "      <th>0</th>\n",
       "      <td>2015년 01월</td>\n",
       "      <td>중국</td>\n",
       "      <td>116932.0</td>\n",
       "      <td>12083947.0</td>\n",
       "      <td>334522.0</td>\n",
       "      <td>8143271.0</td>\n",
       "      <td>3940676.0</td>\n",
       "    </tr>\n",
       "    <tr>\n",
       "      <th>1</th>\n",
       "      <td>2015년 01월</td>\n",
       "      <td>미국</td>\n",
       "      <td>65888.0</td>\n",
       "      <td>5561545.0</td>\n",
       "      <td>509564.0</td>\n",
       "      <td>3625062.0</td>\n",
       "      <td>1936484.0</td>\n",
       "    </tr>\n",
       "    <tr>\n",
       "      <th>2</th>\n",
       "      <td>2015년 01월</td>\n",
       "      <td>일본</td>\n",
       "      <td>54017.0</td>\n",
       "      <td>2251307.0</td>\n",
       "      <td>82480.0</td>\n",
       "      <td>3827247.0</td>\n",
       "      <td>-1575940.0</td>\n",
       "    </tr>\n",
       "    <tr>\n",
       "      <th>3</th>\n",
       "      <td>2015년 02월</td>\n",
       "      <td>중국</td>\n",
       "      <td>86228.0</td>\n",
       "      <td>9927642.0</td>\n",
       "      <td>209100.0</td>\n",
       "      <td>6980874.0</td>\n",
       "      <td>2946768.0</td>\n",
       "    </tr>\n",
       "    <tr>\n",
       "      <th>4</th>\n",
       "      <td>2015년 02월</td>\n",
       "      <td>미국</td>\n",
       "      <td>60225.0</td>\n",
       "      <td>5021264.0</td>\n",
       "      <td>428678.0</td>\n",
       "      <td>2998216.0</td>\n",
       "      <td>2023048.0</td>\n",
       "    </tr>\n",
       "  </tbody>\n",
       "</table>\n",
       "</div>"
      ],
      "text/plain": [
       "          기간 국가명      수출건수        수출금액      수입건수       수입금액       무역수지\n",
       "0  2015년 01월  중국  116932.0  12083947.0  334522.0  8143271.0  3940676.0\n",
       "1  2015년 01월  미국   65888.0   5561545.0  509564.0  3625062.0  1936484.0\n",
       "2  2015년 01월  일본   54017.0   2251307.0   82480.0  3827247.0 -1575940.0\n",
       "3  2015년 02월  중국   86228.0   9927642.0  209100.0  6980874.0  2946768.0\n",
       "4  2015년 02월  미국   60225.0   5021264.0  428678.0  2998216.0  2023048.0"
      ]
     },
     "execution_count": 6,
     "metadata": {},
     "output_type": "execute_result"
    }
   ],
   "source": [
    "trade = trade.drop('기타사항', axis=1)\n",
    "trade.head()"
   ]
  },
  {
   "cell_type": "markdown",
   "metadata": {},
   "source": [
    "<mark>DataFrame.isnull()</mark>은 데이터마다 결측치 여부를 True, False로 반환합니다.      \n",
    "<mark>DataFrame.any(axis=1)</mark>는 행마다 하나라도 True가 있으면 True, 그렇지 않으면 False를 반환합니다."
   ]
  },
  {
   "cell_type": "code",
   "execution_count": 7,
   "metadata": {},
   "outputs": [
    {
     "data": {
      "text/html": [
       "<div>\n",
       "<style scoped>\n",
       "    .dataframe tbody tr th:only-of-type {\n",
       "        vertical-align: middle;\n",
       "    }\n",
       "\n",
       "    .dataframe tbody tr th {\n",
       "        vertical-align: top;\n",
       "    }\n",
       "\n",
       "    .dataframe thead th {\n",
       "        text-align: right;\n",
       "    }\n",
       "</style>\n",
       "<table border=\"1\" class=\"dataframe\">\n",
       "  <thead>\n",
       "    <tr style=\"text-align: right;\">\n",
       "      <th></th>\n",
       "      <th>기간</th>\n",
       "      <th>국가명</th>\n",
       "      <th>수출건수</th>\n",
       "      <th>수출금액</th>\n",
       "      <th>수입건수</th>\n",
       "      <th>수입금액</th>\n",
       "      <th>무역수지</th>\n",
       "    </tr>\n",
       "  </thead>\n",
       "  <tbody>\n",
       "    <tr>\n",
       "      <th>0</th>\n",
       "      <td>False</td>\n",
       "      <td>False</td>\n",
       "      <td>False</td>\n",
       "      <td>False</td>\n",
       "      <td>False</td>\n",
       "      <td>False</td>\n",
       "      <td>False</td>\n",
       "    </tr>\n",
       "    <tr>\n",
       "      <th>1</th>\n",
       "      <td>False</td>\n",
       "      <td>False</td>\n",
       "      <td>False</td>\n",
       "      <td>False</td>\n",
       "      <td>False</td>\n",
       "      <td>False</td>\n",
       "      <td>False</td>\n",
       "    </tr>\n",
       "    <tr>\n",
       "      <th>2</th>\n",
       "      <td>False</td>\n",
       "      <td>False</td>\n",
       "      <td>False</td>\n",
       "      <td>False</td>\n",
       "      <td>False</td>\n",
       "      <td>False</td>\n",
       "      <td>False</td>\n",
       "    </tr>\n",
       "    <tr>\n",
       "      <th>3</th>\n",
       "      <td>False</td>\n",
       "      <td>False</td>\n",
       "      <td>False</td>\n",
       "      <td>False</td>\n",
       "      <td>False</td>\n",
       "      <td>False</td>\n",
       "      <td>False</td>\n",
       "    </tr>\n",
       "    <tr>\n",
       "      <th>4</th>\n",
       "      <td>False</td>\n",
       "      <td>False</td>\n",
       "      <td>False</td>\n",
       "      <td>False</td>\n",
       "      <td>False</td>\n",
       "      <td>False</td>\n",
       "      <td>False</td>\n",
       "    </tr>\n",
       "    <tr>\n",
       "      <th>...</th>\n",
       "      <td>...</td>\n",
       "      <td>...</td>\n",
       "      <td>...</td>\n",
       "      <td>...</td>\n",
       "      <td>...</td>\n",
       "      <td>...</td>\n",
       "      <td>...</td>\n",
       "    </tr>\n",
       "    <tr>\n",
       "      <th>194</th>\n",
       "      <td>False</td>\n",
       "      <td>False</td>\n",
       "      <td>False</td>\n",
       "      <td>False</td>\n",
       "      <td>False</td>\n",
       "      <td>False</td>\n",
       "      <td>False</td>\n",
       "    </tr>\n",
       "    <tr>\n",
       "      <th>195</th>\n",
       "      <td>False</td>\n",
       "      <td>False</td>\n",
       "      <td>False</td>\n",
       "      <td>False</td>\n",
       "      <td>False</td>\n",
       "      <td>False</td>\n",
       "      <td>False</td>\n",
       "    </tr>\n",
       "    <tr>\n",
       "      <th>196</th>\n",
       "      <td>False</td>\n",
       "      <td>False</td>\n",
       "      <td>True</td>\n",
       "      <td>True</td>\n",
       "      <td>True</td>\n",
       "      <td>True</td>\n",
       "      <td>True</td>\n",
       "    </tr>\n",
       "    <tr>\n",
       "      <th>197</th>\n",
       "      <td>False</td>\n",
       "      <td>False</td>\n",
       "      <td>True</td>\n",
       "      <td>True</td>\n",
       "      <td>True</td>\n",
       "      <td>True</td>\n",
       "      <td>True</td>\n",
       "    </tr>\n",
       "    <tr>\n",
       "      <th>198</th>\n",
       "      <td>False</td>\n",
       "      <td>False</td>\n",
       "      <td>True</td>\n",
       "      <td>True</td>\n",
       "      <td>True</td>\n",
       "      <td>True</td>\n",
       "      <td>True</td>\n",
       "    </tr>\n",
       "  </tbody>\n",
       "</table>\n",
       "<p>199 rows × 7 columns</p>\n",
       "</div>"
      ],
      "text/plain": [
       "        기간    국가명   수출건수   수출금액   수입건수   수입금액   무역수지\n",
       "0    False  False  False  False  False  False  False\n",
       "1    False  False  False  False  False  False  False\n",
       "2    False  False  False  False  False  False  False\n",
       "3    False  False  False  False  False  False  False\n",
       "4    False  False  False  False  False  False  False\n",
       "..     ...    ...    ...    ...    ...    ...    ...\n",
       "194  False  False  False  False  False  False  False\n",
       "195  False  False  False  False  False  False  False\n",
       "196  False  False   True   True   True   True   True\n",
       "197  False  False   True   True   True   True   True\n",
       "198  False  False   True   True   True   True   True\n",
       "\n",
       "[199 rows x 7 columns]"
      ]
     },
     "execution_count": 7,
     "metadata": {},
     "output_type": "execute_result"
    }
   ],
   "source": [
    "trade.isnull()"
   ]
  },
  {
   "cell_type": "code",
   "execution_count": 9,
   "metadata": {},
   "outputs": [
    {
     "data": {
      "text/plain": [
       "0      False\n",
       "1      False\n",
       "2      False\n",
       "3      False\n",
       "4      False\n",
       "       ...  \n",
       "194    False\n",
       "195    False\n",
       "196     True\n",
       "197     True\n",
       "198     True\n",
       "Length: 199, dtype: bool"
      ]
     },
     "execution_count": 9,
     "metadata": {},
     "output_type": "execute_result"
    }
   ],
   "source": [
    "trade.isnull().any(axis=1)"
   ]
  },
  {
   "cell_type": "markdown",
   "metadata": {},
   "source": [
    "<mark>trade.isnull().any(axis=1)</mark>을 다시 DataFrame에 넣어주면 값이 True인 데이터만 추출해줍니다."
   ]
  },
  {
   "cell_type": "code",
   "execution_count": 10,
   "metadata": {},
   "outputs": [
    {
     "data": {
      "text/html": [
       "<div>\n",
       "<style scoped>\n",
       "    .dataframe tbody tr th:only-of-type {\n",
       "        vertical-align: middle;\n",
       "    }\n",
       "\n",
       "    .dataframe tbody tr th {\n",
       "        vertical-align: top;\n",
       "    }\n",
       "\n",
       "    .dataframe thead th {\n",
       "        text-align: right;\n",
       "    }\n",
       "</style>\n",
       "<table border=\"1\" class=\"dataframe\">\n",
       "  <thead>\n",
       "    <tr style=\"text-align: right;\">\n",
       "      <th></th>\n",
       "      <th>기간</th>\n",
       "      <th>국가명</th>\n",
       "      <th>수출건수</th>\n",
       "      <th>수출금액</th>\n",
       "      <th>수입건수</th>\n",
       "      <th>수입금액</th>\n",
       "      <th>무역수지</th>\n",
       "    </tr>\n",
       "  </thead>\n",
       "  <tbody>\n",
       "    <tr>\n",
       "      <th>191</th>\n",
       "      <td>2020년 04월</td>\n",
       "      <td>미국</td>\n",
       "      <td>105360.0</td>\n",
       "      <td>NaN</td>\n",
       "      <td>1141118.0</td>\n",
       "      <td>5038739.0</td>\n",
       "      <td>NaN</td>\n",
       "    </tr>\n",
       "    <tr>\n",
       "      <th>196</th>\n",
       "      <td>2020년 06월</td>\n",
       "      <td>중국</td>\n",
       "      <td>NaN</td>\n",
       "      <td>NaN</td>\n",
       "      <td>NaN</td>\n",
       "      <td>NaN</td>\n",
       "      <td>NaN</td>\n",
       "    </tr>\n",
       "    <tr>\n",
       "      <th>197</th>\n",
       "      <td>2020년 06월</td>\n",
       "      <td>미국</td>\n",
       "      <td>NaN</td>\n",
       "      <td>NaN</td>\n",
       "      <td>NaN</td>\n",
       "      <td>NaN</td>\n",
       "      <td>NaN</td>\n",
       "    </tr>\n",
       "    <tr>\n",
       "      <th>198</th>\n",
       "      <td>2020년 06월</td>\n",
       "      <td>일본</td>\n",
       "      <td>NaN</td>\n",
       "      <td>NaN</td>\n",
       "      <td>NaN</td>\n",
       "      <td>NaN</td>\n",
       "      <td>NaN</td>\n",
       "    </tr>\n",
       "  </tbody>\n",
       "</table>\n",
       "</div>"
      ],
      "text/plain": [
       "            기간 국가명      수출건수  수출금액       수입건수       수입금액  무역수지\n",
       "191  2020년 04월  미국  105360.0   NaN  1141118.0  5038739.0   NaN\n",
       "196  2020년 06월  중국       NaN   NaN        NaN        NaN   NaN\n",
       "197  2020년 06월  미국       NaN   NaN        NaN        NaN   NaN\n",
       "198  2020년 06월  일본       NaN   NaN        NaN        NaN   NaN"
      ]
     },
     "execution_count": 10,
     "metadata": {},
     "output_type": "execute_result"
    }
   ],
   "source": [
    "trade[trade.isnull().any(axis=1)]"
   ]
  },
  {
   "cell_type": "code",
   "execution_count": 11,
   "metadata": {},
   "outputs": [
    {
     "name": "stdout",
     "output_type": "stream",
     "text": [
      "👽 It's okay, no biggie.\n"
     ]
    }
   ],
   "source": [
    "trade.dropna(how='all', subset=['수출건수', '수출금액', '수입건수', '수입금액', '무역수지'], inplace=True)\n",
    "print(\"👽 It's okay, no biggie.\")"
   ]
  },
  {
   "cell_type": "code",
   "execution_count": 12,
   "metadata": {},
   "outputs": [
    {
     "data": {
      "text/html": [
       "<div>\n",
       "<style scoped>\n",
       "    .dataframe tbody tr th:only-of-type {\n",
       "        vertical-align: middle;\n",
       "    }\n",
       "\n",
       "    .dataframe tbody tr th {\n",
       "        vertical-align: top;\n",
       "    }\n",
       "\n",
       "    .dataframe thead th {\n",
       "        text-align: right;\n",
       "    }\n",
       "</style>\n",
       "<table border=\"1\" class=\"dataframe\">\n",
       "  <thead>\n",
       "    <tr style=\"text-align: right;\">\n",
       "      <th></th>\n",
       "      <th>기간</th>\n",
       "      <th>국가명</th>\n",
       "      <th>수출건수</th>\n",
       "      <th>수출금액</th>\n",
       "      <th>수입건수</th>\n",
       "      <th>수입금액</th>\n",
       "      <th>무역수지</th>\n",
       "    </tr>\n",
       "  </thead>\n",
       "  <tbody>\n",
       "    <tr>\n",
       "      <th>191</th>\n",
       "      <td>2020년 04월</td>\n",
       "      <td>미국</td>\n",
       "      <td>105360.0</td>\n",
       "      <td>NaN</td>\n",
       "      <td>1141118.0</td>\n",
       "      <td>5038739.0</td>\n",
       "      <td>NaN</td>\n",
       "    </tr>\n",
       "  </tbody>\n",
       "</table>\n",
       "</div>"
      ],
      "text/plain": [
       "            기간 국가명      수출건수  수출금액       수입건수       수입금액  무역수지\n",
       "191  2020년 04월  미국  105360.0   NaN  1141118.0  5038739.0   NaN"
      ]
     },
     "execution_count": 12,
     "metadata": {},
     "output_type": "execute_result"
    }
   ],
   "source": [
    "trade[trade.isnull().any(axis=1)]"
   ]
  },
  {
   "cell_type": "code",
   "execution_count": null,
   "metadata": {},
   "outputs": [],
   "source": []
  }
 ],
 "metadata": {
  "kernelspec": {
   "display_name": "aiffel",
   "language": "python",
   "name": "aiffel"
  },
  "language_info": {
   "codemirror_mode": {
    "name": "ipython",
    "version": 3
   },
   "file_extension": ".py",
   "mimetype": "text/x-python",
   "name": "python",
   "nbconvert_exporter": "python",
   "pygments_lexer": "ipython3",
   "version": "3.7.8"
  }
 },
 "nbformat": 4,
 "nbformat_minor": 4
}
