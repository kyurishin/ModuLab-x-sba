{
 "cells": [
  {
   "cell_type": "markdown",
   "metadata": {},
   "source": [
    "## 3-11. 제어문 (2) `while`: 조건이 참인 동안 반복"
   ]
  },
  {
   "cell_type": "markdown",
   "metadata": {},
   "source": [
    "#### 우선 우린 이걸 배웠다:"
   ]
  },
  {
   "cell_type": "code",
   "execution_count": 4,
   "metadata": {},
   "outputs": [],
   "source": [
    "def print_if_negative_or_odd(number):\n",
    "    if(number <= 0) or (number % 2 != 0):\n",
    "        print(number)"
   ]
  },
  {
   "cell_type": "code",
   "execution_count": 5,
   "metadata": {},
   "outputs": [
    {
     "name": "stdout",
     "output_type": "stream",
     "text": [
      "1\n",
      "-1\n",
      "-2\n"
     ]
    }
   ],
   "source": [
    "    print_if_negative_or_odd(1)\n",
    "    print_if_negative_or_odd(-1)\n",
    "    print_if_negative_or_odd(2)\n",
    "    print_if_negative_or_odd(-2)"
   ]
  },
  {
   "cell_type": "markdown",
   "metadata": {},
   "source": [
    "#### 그리고 while 반복문을 사용하면 컴퓨터가 자동으로 하나씩 계산하도록 할 수 있다."
   ]
  },
  {
   "cell_type": "code",
   "execution_count": 6,
   "metadata": {},
   "outputs": [],
   "source": [
    "def fibonacci(n):\n",
    "    if n <= 2:\n",
    "        return 1\n",
    "    else:\n",
    "        return fibonacci(n-2) + fibonacci(n-1)"
   ]
  },
  {
   "cell_type": "code",
   "execution_count": 7,
   "metadata": {},
   "outputs": [
    {
     "name": "stdout",
     "output_type": "stream",
     "text": [
      "1\n",
      "1\n",
      "2\n",
      "3\n",
      "5\n",
      "8\n",
      "13\n",
      "21\n",
      "34\n",
      "55\n",
      "89\n",
      "144\n",
      "233\n",
      "377\n",
      "610\n",
      "987\n",
      "1597\n",
      "2584\n",
      "4181\n",
      "6765\n",
      "끝!\n"
     ]
    }
   ],
   "source": [
    "n = 1\n",
    "while n <= 20:\n",
    "    print(fibonacci(n))\n",
    "    n = n + 1\n",
    "print('끝!')"
   ]
  },
  {
   "cell_type": "markdown",
   "metadata": {},
   "source": [
    "#### 인피니트 루프"
   ]
  },
  {
   "cell_type": "code",
   "execution_count": null,
   "metadata": {},
   "outputs": [],
   "source": [
    "# 경고 : 실행하지 마세요!\n",
    "# 만약 실행했다면 터미널 창에서 ctrl+c를 눌러 종료하세요.\n",
    "\n",
    "#while 1 == 1:\n",
    "#    print('Infinite loop!')"
   ]
  },
  {
   "cell_type": "markdown",
   "metadata": {},
   "source": [
    "---"
   ]
  },
  {
   "cell_type": "markdown",
   "metadata": {},
   "source": [
    "## 3-12. 제어문 (3) `for`: 하나씩 반복 (굴비 ㅋ)"
   ]
  },
  {
   "cell_type": "markdown",
   "metadata": {},
   "source": [
    "while 뒤에는 참과 거짓이 갈릴 수 있는 명제가 온다면, \n",
    "for 뒤에는 a in A의 형태로, \n",
    "값이 여러 개 들어있는 목록 A에서 값을 하나씩 꺼내서 a 변수에 담아 반복문을 실행합니다."
   ]
  },
  {
   "cell_type": "code",
   "execution_count": 8,
   "metadata": {
    "scrolled": true
   },
   "outputs": [
    {
     "name": "stdout",
     "output_type": "stream",
     "text": [
      "True\n"
     ]
    }
   ],
   "source": [
    "print('H' + 'i' == 'Hi')"
   ]
  },
  {
   "cell_type": "markdown",
   "metadata": {},
   "source": [
    "이렇게 줄줄이 굴비처럼 엮여서 하나씩 순서대로 넘길(iterate)수 있는 값들을 **반복 가능한(iterable, 이터러블) 객체** 라고 합니다. \n",
    "for 루프를 써서 순서대로 엮인 값들을 하나씩 처리할 수 있습니다.\n",
    "\n",
    "그럼, 'Hello'의 글자를 하나씩 print() 해 봅시다."
   ]
  },
  {
   "cell_type": "code",
   "execution_count": 9,
   "metadata": {},
   "outputs": [
    {
     "name": "stdout",
     "output_type": "stream",
     "text": [
      "H\n",
      "e\n",
      "l\n",
      "l\n",
      "o\n"
     ]
    }
   ],
   "source": [
    "for character in 'Hello':\n",
    "    print(character)"
   ]
  },
  {
   "cell_type": "code",
   "execution_count": null,
   "metadata": {},
   "outputs": [],
   "source": [
    "---"
   ]
  },
  {
   "cell_type": "markdown",
   "metadata": {},
   "source": [
    "## 3-13. 자료형(data type)"
   ]
  },
  {
   "cell_type": "code",
   "execution_count": 10,
   "metadata": {},
   "outputs": [
    {
     "name": "stdout",
     "output_type": "stream",
     "text": [
      "<class 'int'>\n"
     ]
    }
   ],
   "source": [
    "print(type(1))"
   ]
  },
  {
   "cell_type": "markdown",
   "metadata": {},
   "source": [
    "## 3-14. 자료형 (1) 정수_integer, `int`"
   ]
  },
  {
   "cell_type": "code",
   "execution_count": 11,
   "metadata": {},
   "outputs": [
    {
     "name": "stdout",
     "output_type": "stream",
     "text": [
      "1000000000000000000000000000000\n"
     ]
    }
   ],
   "source": [
    "number = 1000 ** 10\n",
    "print(number)"
   ]
  },
  {
   "cell_type": "markdown",
   "metadata": {},
   "source": [
    "## 3-15. 자료형 (2) 부동소수점 수_floating-point number, `float`"
   ]
  },
  {
   "cell_type": "markdown",
   "metadata": {},
   "source": [
    "이외에 정수를 제외한 실수를 부동소수점 수 또는 떠돌이 소수점 수인 float라고 합니다.\n",
    "여기서 소수는 1과 자신으로밖에 나누어지지 않는 素數(prime number)가 아니라, 소숫점 아래에 값이 있는 小數(decimal)입니다."
   ]
  },
  {
   "cell_type": "code",
   "execution_count": 12,
   "metadata": {},
   "outputs": [
    {
     "name": "stdout",
     "output_type": "stream",
     "text": [
      "<class 'float'>\n"
     ]
    }
   ],
   "source": [
    "print(type(1.1))"
   ]
  },
  {
   "cell_type": "code",
   "execution_count": 13,
   "metadata": {},
   "outputs": [
    {
     "name": "stdout",
     "output_type": "stream",
     "text": [
      "True\n",
      "2.0\n"
     ]
    }
   ],
   "source": [
    "print(1 == 1.0) # 부등호 연산 TRUE OR FALSE\n",
    "print(1 + 1.0)"
   ]
  },
  {
   "cell_type": "code",
   "execution_count": 15,
   "metadata": {},
   "outputs": [
    {
     "name": "stdout",
     "output_type": "stream",
     "text": [
      "1.0\n",
      "<class 'float'>\n",
      "1\n",
      "<class 'int'>\n"
     ]
    }
   ],
   "source": [
    "print(float(1))\n",
    "print(type(float(1)))\n",
    "print(int(1.0))\n",
    "print(type(int(1.0)))"
   ]
  },
  {
   "cell_type": "markdown",
   "metadata": {},
   "source": [
    "#### 사람은 10진법으로 숫자를 표현하지만, 컴퓨터는 2진법으로 숫자를 표현한다.   \n",
    "#### 즉, 1, 0으로 모든 것을 받아 들인다.\n",
    "\n"
   ]
  },
  {
   "cell_type": "markdown",
   "metadata": {},
   "source": [
    "부동소수점의 경우 1bit(부호) + 8bit(지수) + 23bit(가수)\n"
   ]
  },
  {
   "cell_type": "markdown",
   "metadata": {},
   "source": [
    "## 3-16. 자료형 (3) `NoneType`"
   ]
  },
  {
   "cell_type": "code",
   "execution_count": 21,
   "metadata": {},
   "outputs": [
    {
     "name": "stdout",
     "output_type": "stream",
     "text": [
      "<class 'NoneType'>\n"
     ]
    }
   ],
   "source": [
    "print(type(None))"
   ]
  },
  {
   "cell_type": "markdown",
   "metadata": {},
   "source": [
    "## 3-17. 자료형 (4) 불리언_boolean, `bool`"
   ]
  },
  {
   "cell_type": "code",
   "execution_count": 24,
   "metadata": {},
   "outputs": [
    {
     "name": "stdout",
     "output_type": "stream",
     "text": [
      "<class 'bool'>\n",
      "<class 'bool'>\n"
     ]
    }
   ],
   "source": [
    "print(type(True))\n",
    "print(type(False))"
   ]
  },
  {
   "cell_type": "code",
   "execution_count": 25,
   "metadata": {},
   "outputs": [
    {
     "name": "stdout",
     "output_type": "stream",
     "text": [
      "False\n",
      "True\n"
     ]
    }
   ],
   "source": [
    "print(not True)\n",
    "print(not not True)"
   ]
  },
  {
   "cell_type": "code",
   "execution_count": 26,
   "metadata": {},
   "outputs": [
    {
     "name": "stdout",
     "output_type": "stream",
     "text": [
      "False\n",
      "False\n",
      "True\n"
     ]
    }
   ],
   "source": [
    "# int()나 float()처럼 bool()을 통해 다른 값을 참과 거짓으로 변환할 수도 있습니다.\n",
    "# 0 일때는 False로 변환되며, 그 외 나머지 경우에는 True가 됩니다.\n",
    "\n",
    "print(bool(None))\n",
    "print(bool(0))\n",
    "print(bool(1.1))"
   ]
  },
  {
   "cell_type": "markdown",
   "metadata": {},
   "source": [
    "## 3-18. 자료형 (5) 문자열_string, `str`"
   ]
  },
  {
   "cell_type": "code",
   "execution_count": 27,
   "metadata": {},
   "outputs": [
    {
     "name": "stdout",
     "output_type": "stream",
     "text": [
      "He said, \"spam.\"\n"
     ]
    }
   ],
   "source": [
    "print('He said, \"spam.\"')"
   ]
  },
  {
   "cell_type": "code",
   "execution_count": 28,
   "metadata": {},
   "outputs": [
    {
     "name": "stdout",
     "output_type": "stream",
     "text": [
      "Quote(') and double quote(\")\n"
     ]
    }
   ],
   "source": [
    "# 문자열 안에서 따옴표 앞에 \\를 붙여서 이건 코드 상의 기호가 아닌, 문자 그대로로 해석하라고 표시(escape)할 수 있습니다.\n",
    "print('Quote(\\') and double quote(\\\")')"
   ]
  },
  {
   "cell_type": "code",
   "execution_count": 29,
   "metadata": {},
   "outputs": [
    {
     "name": "stdout",
     "output_type": "stream",
     "text": [
      "Line 1\n",
      "Line2\n"
     ]
    }
   ],
   "source": [
    "print(\"\"\"Line 1\n",
    "Line2\"\"\")"
   ]
  },
  {
   "cell_type": "code",
   "execution_count": 30,
   "metadata": {},
   "outputs": [
    {
     "name": "stdout",
     "output_type": "stream",
     "text": [
      "H\n",
      "e\n",
      "l\n",
      "l\n",
      "o\n"
     ]
    }
   ],
   "source": [
    "for character in 'Hello':\n",
    "    print(character)"
   ]
  },
  {
   "cell_type": "code",
   "execution_count": 31,
   "metadata": {},
   "outputs": [
    {
     "name": "stdout",
     "output_type": "stream",
     "text": [
      "e\n"
     ]
    }
   ],
   "source": [
    "# 특히 값들이 순서대로 들어있는 반복 가능한 객체 중에서도 유한한 길이를 갖는 자료형들을 파이썬에서는 컨테이너(container) 자료형이라고 부릅니다. \n",
    "# 이런 컨테이너 자료형들은 뒤에 [숫자]를 붙여서 해당 순서 인덱스(index) 에 해당하는 값만 쏙 뽑아올 수 있습니다.\n",
    "#주의할 점은, 순서가 0부터 시작한다는 점입니다. ❕\n",
    "\n",
    "message = 'Hello'\n",
    "print(message[1])"
   ]
  },
  {
   "cell_type": "code",
   "execution_count": 32,
   "metadata": {},
   "outputs": [
    {
     "name": "stdout",
     "output_type": "stream",
     "text": [
      "o\n"
     ]
    }
   ],
   "source": [
    "# 뒤에서의 순서로 뽑고 싶다면 음수를 주면 됩니다.\n",
    "\n",
    "message = 'Hello'\n",
    "print(message[-1])"
   ]
  },
  {
   "cell_type": "code",
   "execution_count": 33,
   "metadata": {},
   "outputs": [
    {
     "name": "stdout",
     "output_type": "stream",
     "text": [
      "Hell\n"
     ]
    }
   ],
   "source": [
    "# :를 써서 [n:m]처럼 n번째부터 m번 직전까지를 한 번에 뽑아올 수도 있습니다.\n",
    "# 이를 치즈를 잘라먹는 것처럼 슬라이스(slice)라고 합니다.\n",
    "\n",
    "message = 'Hello'\n",
    "print(message[0:4])"
   ]
  },
  {
   "cell_type": "code",
   "execution_count": 34,
   "metadata": {},
   "outputs": [
    {
     "name": "stdout",
     "output_type": "stream",
     "text": [
      "llo\n"
     ]
    }
   ],
   "source": [
    "# 혹은 : 앞이나 뒤를 생략해서 여기서부터 끝까지 다 내놓으라고 할 수도 있습니다.\n",
    "\n",
    "message = 'Hello'\n",
    "print(message[2:])"
   ]
  },
  {
   "cell_type": "code",
   "execution_count": 35,
   "metadata": {},
   "outputs": [
    {
     "name": "stdout",
     "output_type": "stream",
     "text": [
      "lo\n"
     ]
    }
   ],
   "source": [
    "message = 'Hello'\n",
    "print(message[-2:])"
   ]
  },
  {
   "cell_type": "markdown",
   "metadata": {},
   "source": [
    "## 3-19. 자료형 (6) 튜플과 리스트_`tuple`, `list`"
   ]
  },
  {
   "cell_type": "code",
   "execution_count": 36,
   "metadata": {},
   "outputs": [
    {
     "name": "stdout",
     "output_type": "stream",
     "text": [
      "1\n",
      "2\n",
      "3\n"
     ]
    }
   ],
   "source": [
    "# 튜플의 경우에는 괄호() 안에 원하는 값들을 쉼표(,)로 구분해서 써주면 됩니다.\n",
    "numbers = (1, 2, 3)\n",
    "for number in numbers:\n",
    "    print(number)"
   ]
  },
  {
   "cell_type": "code",
   "execution_count": 38,
   "metadata": {},
   "outputs": [
    {
     "name": "stdout",
     "output_type": "stream",
     "text": [
      "1\n"
     ]
    }
   ],
   "source": [
    "# 튜플도 문자열처럼 [색인] 문법을 써서 특정 위치의 값을 읽을 수 있습니다.\n",
    "mixed_tuple = ('Hello', 0, True)\n",
    "tuple_123 = (1, 2, 3)\n",
    "print(tuple_123[0])"
   ]
  },
  {
   "cell_type": "code",
   "execution_count": 39,
   "metadata": {},
   "outputs": [
    {
     "ename": "TypeError",
     "evalue": "'tuple' object does not support item assignment",
     "output_type": "error",
     "traceback": [
      "\u001b[0;31m---------------------------------------------------------------------------\u001b[0m",
      "\u001b[0;31mTypeError\u001b[0m                                 Traceback (most recent call last)",
      "\u001b[0;32m<ipython-input-39-a8e6af3d4303>\u001b[0m in \u001b[0;36m<module>\u001b[0;34m\u001b[0m\n\u001b[1;32m      1\u001b[0m \u001b[0;31m# 하지만 값을 변경할 수는 없습니다. 아래 코드는 에러가 납니다.\u001b[0m\u001b[0;34m\u001b[0m\u001b[0;34m\u001b[0m\u001b[0;34m\u001b[0m\u001b[0m\n\u001b[1;32m      2\u001b[0m \u001b[0mtuple_123\u001b[0m \u001b[0;34m=\u001b[0m \u001b[0;34m(\u001b[0m\u001b[0;36m1\u001b[0m\u001b[0;34m,\u001b[0m \u001b[0;36m2\u001b[0m\u001b[0;34m,\u001b[0m \u001b[0;36m3\u001b[0m\u001b[0;34m)\u001b[0m\u001b[0;34m\u001b[0m\u001b[0;34m\u001b[0m\u001b[0m\n\u001b[0;32m----> 3\u001b[0;31m \u001b[0mtuple_123\u001b[0m\u001b[0;34m[\u001b[0m\u001b[0;36m0\u001b[0m\u001b[0;34m]\u001b[0m \u001b[0;34m=\u001b[0m \u001b[0;36m0\u001b[0m\u001b[0;34m\u001b[0m\u001b[0;34m\u001b[0m\u001b[0m\n\u001b[0m",
      "\u001b[0;31mTypeError\u001b[0m: 'tuple' object does not support item assignment"
     ]
    }
   ],
   "source": [
    "# 하지만 값을 변경할 수는 없습니다. 아래 코드는 에러가 납니다.\n",
    "tuple_123 = (1, 2, 3)\n",
    "tuple_123[0] = 0"
   ]
  },
  {
   "cell_type": "code",
   "execution_count": 40,
   "metadata": {},
   "outputs": [
    {
     "name": "stdout",
     "output_type": "stream",
     "text": [
      "(1, 2, 3, 4)\n"
     ]
    }
   ],
   "source": [
    "# 튜플 덧셈 연산을 이용해 합치기도 가능!\n",
    "tuple_a = (1, 2)\n",
    "tuple_b = (3, 4)\n",
    "print(tuple_a + tuple_b)"
   ]
  },
  {
   "cell_type": "code",
   "execution_count": null,
   "metadata": {},
   "outputs": [],
   "source": []
  }
 ],
 "metadata": {
  "kernelspec": {
   "display_name": "datascience",
   "language": "python",
   "name": "datascience"
  },
  "language_info": {
   "codemirror_mode": {
    "name": "ipython",
    "version": 3
   },
   "file_extension": ".py",
   "mimetype": "text/x-python",
   "name": "python",
   "nbconvert_exporter": "python",
   "pygments_lexer": "ipython3",
   "version": "3.8.5"
  }
 },
 "nbformat": 4,
 "nbformat_minor": 4
}
