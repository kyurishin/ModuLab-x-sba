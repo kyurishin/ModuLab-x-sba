{
 "cells": [
  {
   "cell_type": "markdown",
   "metadata": {},
   "source": [
    "# 7. 당신의 행운의 숫자는? 나만의 n면체 주사위 위젯 만들기\n",
    "\n",
    "## PREFACE\n",
    "\n",
    "#### <u>Learning Objectives</u>\n",
    "---\n",
    "- 파이썬 클래스 문법을 익힙니다.\n",
    "- 파이썬 클래스를 활용해 객체 지향 프로그래밍에 대해 학습합니다.\n",
    "\n",
    "## 7-2. 객체 지향 프로그래밍 (1) 객체란? - Object Oriented Programming (1) What is an object?\n",
    "\n",
    "> #### Everything in Python is an object, and almost everything has attributes and methods.\n",
    "\n",
    "\"파이썬(Python)에서 모든 것은 객체(object)다. 그리고 대부분의 객체는 속성(attributes)과 메소드(methods)를 갖는다.\"    \n",
    "파이썬에서는 부울(bool), 정수, 실수, 문자열, 배열, 딕셔너리, 함수, 모듈, 프로그램.. 등 모든 것이 객체입니다. \n",
    "\n",
    "파이썬에서 object라 불리우는 것들은 모두 변수에 할당될 수 있고, 함수의 인자로 넘겨질 수 있는 것들입니다.    \n",
    "그러므로 파이썬에 나오는 모든 것들은 object입니다.  \n",
    "\n",
    "객체(object)란 개념은 다소 모호하긴 합니다. 그러나 적어도 파이썬에서 정의된 모든 클래스는 Object 클래스를 상속받고 있습니다.     \n",
    "이 클래스가 책임지는 것이 변수 할당과 object id 부여입니다. 그런 파이썬의 모든 것이 객체라는 말이 아주 터무니없지는 않은 것 같습니다."
   ]
  },
  {
   "cell_type": "code",
   "execution_count": 5,
   "metadata": {},
   "outputs": [
    {
     "data": {
      "text/plain": [
       "3"
      ]
     },
     "execution_count": 5,
     "metadata": {},
     "output_type": "execute_result"
    }
   ],
   "source": [
    "myvar = 3\n",
    "myvar"
   ]
  },
  {
   "cell_type": "markdown",
   "metadata": {},
   "source": [
    "변수는 단지 이름일 뿐이에요. = 연산자를 이용해 값을 할당한다는 의미는 값을 복사하는 것이 아니라 데이터가 담긴 객체에 그냥 이름을 붙이는 것입니다.     \n",
    "진짜 객체를 변수명으로 가리켜 참조할 수 있게 하는 것이죠.\n",
    "\n",
    "즉, 아래 코드는 'cat'이 담긴 문자열 타입의 객체를 생성하고 myword라는 변수(객체)에 할당, 문자열 객체를 참조하게 합니다.\n",
    "\n",
    "Variable is just a name. using = operator to apply values mean naming an object with data.\n",
    "Directing the real variable as a reference.\n",
    "\n",
    "Thus, the code below creates a string object called 'cat' and applies myword to a variable,    \n",
    "referring to the str object."
   ]
  },
  {
   "cell_type": "code",
   "execution_count": 4,
   "metadata": {},
   "outputs": [
    {
     "data": {
      "text/plain": [
       "'cat'"
      ]
     },
     "execution_count": 4,
     "metadata": {},
     "output_type": "execute_result"
    }
   ],
   "source": [
    "myword = 'cat'\n",
    "myword"
   ]
  },
  {
   "cell_type": "markdown",
   "metadata": {},
   "source": [
    "앞서 객체는 속성과 메소드를 포함한다고 했습니다. 문자열 클래스에는 <mark>upper()</mark>란 메소드가 있죠?"
   ]
  },
  {
   "cell_type": "code",
   "execution_count": 8,
   "metadata": {},
   "outputs": [
    {
     "data": {
      "text/plain": [
       "'CAT'"
      ]
     },
     "execution_count": 8,
     "metadata": {},
     "output_type": "execute_result"
    }
   ],
   "source": [
    "myword.upper()"
   ]
  },
  {
   "cell_type": "code",
   "execution_count": 11,
   "metadata": {},
   "outputs": [
    {
     "data": {
      "text/plain": [
       "'CAT'"
      ]
     },
     "execution_count": 11,
     "metadata": {},
     "output_type": "execute_result"
    }
   ],
   "source": [
    "'cat'.upper()"
   ]
  },
  {
   "cell_type": "markdown",
   "metadata": {},
   "source": [
    "this is because myword and 'cat' have the same value."
   ]
  },
  {
   "cell_type": "code",
   "execution_count": 13,
   "metadata": {},
   "outputs": [
    {
     "data": {
      "text/plain": [
       "4"
      ]
     },
     "execution_count": 13,
     "metadata": {},
     "output_type": "execute_result"
    }
   ],
   "source": [
    "var = 4\n",
    "var"
   ]
  },
  {
   "cell_type": "markdown",
   "metadata": {},
   "source": [
    "we have applied integer 4 to var.    \n",
    "It's easy if you think of variable as a memory address.    \n",
    "let's use <mark>id()</mark> to identify the object.\n",
    "\n",
    "> id(object)\n",
    "Return the “identity” of an object. This is an integer which is guaranteed to be unique and constant for this object during its lifetime. Two objects with non-overlapping lifetimes may have the same id() value.\n",
    ">>CPython implementation detail: This is the address of the object in memory.\n",
    "\n"
   ]
  },
  {
   "cell_type": "code",
   "execution_count": 16,
   "metadata": {},
   "outputs": [
    {
     "name": "stdout",
     "output_type": "stream",
     "text": [
      "4477757888 4477757888\n"
     ]
    }
   ],
   "source": [
    "print(id(var), id(4)) #id 값은 pc마다 다릅니다."
   ]
  },
  {
   "cell_type": "markdown",
   "metadata": {},
   "source": [
    "다음 그림처럼 4라는 데이터를 변수 var에 할당시킨 것입니다.    \n",
    "따라서 var, 4 각각의 id값을 확인해 보면 같은 값이 나옴을 확인할 수 있습니다.\n",
    "\n",
    "<img src=\"https://aiffelstaticprd.blob.core.windows.net/media/images/f-23-2.1.max-800x600.png\" width=500>"
   ]
  },
  {
   "cell_type": "markdown",
   "metadata": {},
   "source": [
    "### 3) 얕은 복사, 깊은 복사\n",
    "---\n",
    "변수 var에 리스트 변수 mylist를 할당합니다."
   ]
  },
  {
   "cell_type": "code",
   "execution_count": 18,
   "metadata": {},
   "outputs": [
    {
     "data": {
      "text/plain": [
       "[10, 9, 8, 7, 6, 5, 4, 3, 2, 1]"
      ]
     },
     "execution_count": 18,
     "metadata": {},
     "output_type": "execute_result"
    }
   ],
   "source": [
    "mylife=[10,9,8,7,6,5,4,3,2,1]\n",
    "var = mylife\n",
    "var"
   ]
  },
  {
   "cell_type": "code",
   "execution_count": 21,
   "metadata": {},
   "outputs": [
    {
     "name": "stdout",
     "output_type": "stream",
     "text": [
      "[10, 9, 8, 7, 6, 5, 4, 3, 2, 1, 3, 3, 3]\n"
     ]
    }
   ],
   "source": [
    "mylife.append(3)\n",
    "print(mylife)"
   ]
  },
  {
   "cell_type": "code",
   "execution_count": 23,
   "metadata": {},
   "outputs": [
    {
     "data": {
      "text/plain": [
       "[10, 9, 8, 7, 6, 5, 4, 3, 2, 1, 3, 3, 3]"
      ]
     },
     "execution_count": 23,
     "metadata": {},
     "output_type": "execute_result"
    }
   ],
   "source": [
    "var"
   ]
  },
  {
   "cell_type": "code",
   "execution_count": 26,
   "metadata": {},
   "outputs": [
    {
     "name": "stdout",
     "output_type": "stream",
     "text": [
      "140729713170432 140729713170432\n"
     ]
    }
   ],
   "source": [
    "print(id(mylife),id(var))    # id of both variables are the same as they refer to the same data"
   ]
  },
  {
   "cell_type": "markdown",
   "metadata": {},
   "source": [
    "* **A shallow copy** constructs a new compound object and then (to the extent possible) **inserts references** into it to the objects found in the original.\n",
    "\n",
    "* **A deep copy** constructs a new compound object and then, **recursively**, inserts copies into it of the objects found in the original.\n",
    "\n",
    ">copy.copy(x)\n",
    "Return a shallow copy of x.\n",
    "\n",
    ">copy.deepcopy(x[, memo])\n",
    "Return a deep copy of x.\n",
    "\n",
    "원칙적으로 얕은 복사는 원본 객체의 주소를 복사하고, 깊은 복사는 원본 객체의 값을 복사한다고 기억하시면 됩니다. 다만 파이썬에서 얕은 복사, 깊은 복사의 기준은 조금 복잡하므로 우선 서로 다르다는 것만 기억하고, 좀 더 공부한 뒤 필요할 때 다시 공식 문서로 공부해 보세요.\n",
    "\n",
    "Fundamentally, shallow copy copies the original object's address and deep copy copies the original object's value.   \n",
    "But in Python, the standard of 'shallow' and 'deep' are pretty inextricable.\n",
    "\n",
    "---\n",
    "\n",
    "## Overview\n",
    "\n",
    "- Everything in Python is an object\n",
    "- Objects have methods for attributes to display states and behaviour\n",
    "- Properties of an object is implemented as a variable\n",
    "\n",
    "---\n",
    "\n",
    "## 7-3. 객체 지향 프로그래밍 (2) 객체 지향 프로그래밍이란?\n",
    "\n",
    "So far, we learned about the concept of objects and the variables that contain (reference) them.   \n",
    "Programming using objects in this way is called **객체 지향 프로그래밍(OOP: Object Oriented Programming)**\n",
    "\n",
    "1. 절차 지향과 객체 지향\n",
    "\n",
    "    1.1 절차지향\n",
    "    절차지향이란 프로시져(procedure)로 프로그램을 구성하는 기법이다. 프로시져는 대체로 데이터를 중심으로 구현한다.     \n",
    "    단점은 데이터 타입이나 의미를 변경해야 할 때, 함께 수정해야 하는 프로시저가 증가하는 것이다.\n",
    "\n",
    "    1.2 객체 지향\n",
    "    객체는 자신만의 데이터와 프로시져를 갖는다. 객체는 자신만이 기능을 제공하며, 각 객체들은 서로 연결되어 다른 객체가 제공하는 기능을 사용할 수 있다.\n",
    "\n",
    "<img src=\"https://aiffelstaticprd.blob.core.windows.net/media/images/F-23-2_hcZm5QN.max-800x600.png\" width=\"500\">\n",
    "\n",
    "출처: https://pjh3749.tistory.com/244 [JayTech의 기술 블로그]\n"
   ]
  }
 ],
 "metadata": {
  "kernelspec": {
   "display_name": "datascience",
   "language": "python",
   "name": "datascience"
  },
  "language_info": {
   "codemirror_mode": {
    "name": "ipython",
    "version": 3
   },
   "file_extension": ".py",
   "mimetype": "text/x-python",
   "name": "python",
   "nbconvert_exporter": "python",
   "pygments_lexer": "ipython3",
   "version": "3.8.5"
  }
 },
 "nbformat": 4,
 "nbformat_minor": 4
}
