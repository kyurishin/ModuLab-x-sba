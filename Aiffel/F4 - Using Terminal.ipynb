{
 "cells": [
  {
   "cell_type": "markdown",
   "metadata": {},
   "source": [
    "1. 이름이 --all인 폴더를 만들어봅시다."
   ]
  },
  {
   "cell_type": "code",
   "execution_count": null,
   "metadata": {},
   "outputs": [],
   "source": [
    "june@juneoh-ubuntu:~$ mkdir ① ②"
   ]
  },
  {
   "cell_type": "code",
   "execution_count": null,
   "metadata": {},
   "outputs": [],
   "source": [
    "june@juneoh-ubuntu:~$ mkdir ./ --all"
   ]
  },
  {
   "cell_type": "markdown",
   "metadata": {},
   "source": [
    "2. titanic.csv에서 남성과 여성이 몇 명인지 세어봅시다.   \n",
    "   우선 tail 을 통해 첫 줄을 제외한 나머지 줄을 출력하고,    \n",
    "   cut으로 성별이 들어있는 열만 추출한 다음,    \n",
    "\n",
    "   ④로 뭔가 쓱싹 한 다음에 uniq로 각각 세어봅시다."
   ]
  },
  {
   "cell_type": "code",
   "execution_count": null,
   "metadata": {},
   "outputs": [],
   "source": [
    "june@juneoh-ubuntu:~$ tail -n ① titanic.csv | cut -d② -f③ | ④ | uniq ⑤ \n",
    "314 female\n",
    "577 male"
   ]
  },
  {
   "cell_type": "code",
   "execution_count": null,
   "metadata": {},
   "outputs": [],
   "source": [
    "june@juneoh-ubuntu:~$ tail -n 891 train.csv | cut -d\"sex\" -f train.csv | cat | uniq -d train.csv "
   ]
  },
  {
   "cell_type": "code",
   "execution_count": null,
   "metadata": {},
   "outputs": [],
   "source": [
    "tail -n 2 train.csv | cut -d ',' -f 6 train.csv | sort | uniq -c train.csv"
   ]
  },
  {
   "cell_type": "markdown",
   "metadata": {},
   "source": [
    "3. titanic.csv에서 성이 Brown인 사람이 몇 명인지 세어봅시다.    \n",
    "   성이 아닌 나머지 이름에 Brown이 들어가는 경우도 있으니 조심해야 합니다."
   ]
  },
  {
   "cell_type": "code",
   "execution_count": null,
   "metadata": {},
   "outputs": [],
   "source": [
    "june@juneoh-ubuntu:~$ cat titanic.csv | grep '①' | wc ②\n",
    "4"
   ]
  },
  {
   "cell_type": "code",
   "execution_count": null,
   "metadata": {},
   "outputs": [],
   "source": [
    "june@juneoh-ubuntu:~$ cat titanic.csv | grep '①' | wc ②"
   ]
  }
 ],
 "metadata": {
  "kernelspec": {
   "display_name": "Python 3",
   "language": "python",
   "name": "python3"
  },
  "language_info": {
   "codemirror_mode": {
    "name": "ipython",
    "version": 3
   },
   "file_extension": ".py",
   "mimetype": "text/x-python",
   "name": "python",
   "nbconvert_exporter": "python",
   "pygments_lexer": "ipython3",
   "version": "3.7.8"
  }
 },
 "nbformat": 4,
 "nbformat_minor": 4
}
