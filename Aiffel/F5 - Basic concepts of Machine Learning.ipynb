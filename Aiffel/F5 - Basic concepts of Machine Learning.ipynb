{
 "cells": [
  {
   "cell_type": "markdown",
   "metadata": {},
   "source": [
    "## **학습 목표**\n",
    "머신러닝과 전통적인 프로그래밍 방식의 차이를 이해합니다.     \n",
    "경사하강법의 원리를 미분을 통해 이해하고 직접 구현해 봅니다.     \n",
    "간단한 머신러닝 알고리즘을 이용해 실습해 봅니다.\n",
    "\n",
    "## **학습 내용**\n",
    "인공지능의 시작과 역사     \n",
    "머신러닝 \"Paradigm Shift\"    \n",
    "머신러닝 Paradigm Shift - Rule     \n",
    "머신러닝 Paradigm Shift - Workflow    \n",
    "머신러닝 Paradigm Shift - Feature from data     \n",
    "미분과 머신러닝     \n",
    "시스템과 미분     \n",
    "파이썬 미분 구현     \n",
    "머신러닝과 미분     "
   ]
  },
  {
   "cell_type": "code",
   "execution_count": null,
   "metadata": {},
   "outputs": [],
   "source": []
  }
 ],
 "metadata": {
  "kernelspec": {
   "display_name": "aiffel",
   "language": "python",
   "name": "aiffel"
  },
  "language_info": {
   "codemirror_mode": {
    "name": "ipython",
    "version": 3
   },
   "file_extension": ".py",
   "mimetype": "text/x-python",
   "name": "python",
   "nbconvert_exporter": "python",
   "pygments_lexer": "ipython3",
   "version": "3.7.8"
  }
 },
 "nbformat": 4,
 "nbformat_minor": 4
}
